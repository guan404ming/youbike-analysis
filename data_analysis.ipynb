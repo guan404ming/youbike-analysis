{
 "cells": [
  {
   "cell_type": "markdown",
   "metadata": {},
   "source": [
    "# Data Analysis"
   ]
  },
  {
   "cell_type": "code",
   "execution_count": 1,
   "metadata": {},
   "outputs": [],
   "source": [
    "import pandas as pd\n",
    "import seaborn as sns\n",
    "import matplotlib.pyplot as plt\n",
    "import numpy as np\n",
    "import geopandas as gpd\n",
    "import plotly.express as px\n",
    "import ast\n",
    "\n",
    "pd.options.display.float_format = '{:.3f}'.format\n",
    "plt.rcParams[\"font.sans-serif\"] = [\n",
    "    \"Arial Unicode Ms\",\n",
    "    \"Apple Braille\",\n",
    "    \"AppleMyungjo\",\n",
    "]"
   ]
  },
  {
   "cell_type": "code",
   "execution_count": 2,
   "metadata": {},
   "outputs": [],
   "source": [
    "# Read the data from the CSV file\n",
    "df_weekend = pd.read_csv('data/weekend_data.csv')\n",
    "df_weekday = pd.read_csv('data/weekday_data.csv')"
   ]
  },
  {
   "cell_type": "markdown",
   "metadata": {},
   "source": [
    "## 1. Basic Information"
   ]
  },
  {
   "cell_type": "code",
   "execution_count": 3,
   "metadata": {},
   "outputs": [
    {
     "data": {
      "text/html": [
       "<div>\n",
       "<style scoped>\n",
       "    .dataframe tbody tr th:only-of-type {\n",
       "        vertical-align: middle;\n",
       "    }\n",
       "\n",
       "    .dataframe tbody tr th {\n",
       "        vertical-align: top;\n",
       "    }\n",
       "\n",
       "    .dataframe thead th {\n",
       "        text-align: right;\n",
       "    }\n",
       "</style>\n",
       "<table border=\"1\" class=\"dataframe\">\n",
       "  <thead>\n",
       "    <tr style=\"text-align: right;\">\n",
       "      <th></th>\n",
       "      <th>on_stop_id</th>\n",
       "      <th>off_stop_id</th>\n",
       "      <th>on_stop</th>\n",
       "      <th>off_stop</th>\n",
       "      <th>sum_of_txn_times</th>\n",
       "      <th>district_origin</th>\n",
       "      <th>district_destination</th>\n",
       "      <th>width</th>\n",
       "      <th>coordinates</th>\n",
       "      <th>distance</th>\n",
       "      <th>on_stop_coordinates</th>\n",
       "      <th>off_stop_coordinates</th>\n",
       "      <th>txn_times_per_day</th>\n",
       "    </tr>\n",
       "  </thead>\n",
       "  <tbody>\n",
       "    <tr>\n",
       "      <th>0</th>\n",
       "      <td>U101001</td>\n",
       "      <td>U101001</td>\n",
       "      <td>捷運科技大樓站</td>\n",
       "      <td>捷運科技大樓站</td>\n",
       "      <td>139</td>\n",
       "      <td>大安區</td>\n",
       "      <td>大安區</td>\n",
       "      <td>2.415</td>\n",
       "      <td>[[121.5436, 25.02605], [121.5436, 25.02605]]</td>\n",
       "      <td>0.000</td>\n",
       "      <td>[121.5436, 25.02605]</td>\n",
       "      <td>[121.5436, 25.02605]</td>\n",
       "      <td>69.500</td>\n",
       "    </tr>\n",
       "    <tr>\n",
       "      <th>1</th>\n",
       "      <td>U101001</td>\n",
       "      <td>U101002</td>\n",
       "      <td>捷運科技大樓站</td>\n",
       "      <td>復興南路二段273號前</td>\n",
       "      <td>47</td>\n",
       "      <td>大安區</td>\n",
       "      <td>大安區</td>\n",
       "      <td>1.472</td>\n",
       "      <td>[[121.5436, 25.02605], [121.54357, 25.02565]]</td>\n",
       "      <td>0.024</td>\n",
       "      <td>[121.5436, 25.02605]</td>\n",
       "      <td>[121.54357, 25.02565]</td>\n",
       "      <td>23.500</td>\n",
       "    </tr>\n",
       "    <tr>\n",
       "      <th>2</th>\n",
       "      <td>U101001</td>\n",
       "      <td>U101003</td>\n",
       "      <td>捷運科技大樓站</td>\n",
       "      <td>國北教大實小東側門</td>\n",
       "      <td>24</td>\n",
       "      <td>大安區</td>\n",
       "      <td>大安區</td>\n",
       "      <td>1.236</td>\n",
       "      <td>[[121.5436, 25.02605], [121.54124, 25.02429]]</td>\n",
       "      <td>0.282</td>\n",
       "      <td>[121.5436, 25.02605]</td>\n",
       "      <td>[121.54124, 25.02429]</td>\n",
       "      <td>12.000</td>\n",
       "    </tr>\n",
       "    <tr>\n",
       "      <th>3</th>\n",
       "      <td>U101001</td>\n",
       "      <td>U101004</td>\n",
       "      <td>捷運科技大樓站</td>\n",
       "      <td>和平公園東側</td>\n",
       "      <td>121</td>\n",
       "      <td>大安區</td>\n",
       "      <td>大安區</td>\n",
       "      <td>2.231</td>\n",
       "      <td>[[121.5436, 25.02605], [121.54282, 25.02351]]</td>\n",
       "      <td>0.171</td>\n",
       "      <td>[121.5436, 25.02605]</td>\n",
       "      <td>[121.54282, 25.02351]</td>\n",
       "      <td>60.500</td>\n",
       "    </tr>\n",
       "    <tr>\n",
       "      <th>4</th>\n",
       "      <td>U101001</td>\n",
       "      <td>U101005</td>\n",
       "      <td>捷運科技大樓站</td>\n",
       "      <td>辛亥復興路口西北側</td>\n",
       "      <td>185</td>\n",
       "      <td>大安區</td>\n",
       "      <td>大安區</td>\n",
       "      <td>2.887</td>\n",
       "      <td>[[121.5436, 25.02605], [121.54299, 25.02153]]</td>\n",
       "      <td>0.272</td>\n",
       "      <td>[121.5436, 25.02605]</td>\n",
       "      <td>[121.54299, 25.02153]</td>\n",
       "      <td>92.500</td>\n",
       "    </tr>\n",
       "  </tbody>\n",
       "</table>\n",
       "</div>"
      ],
      "text/plain": [
       "  on_stop_id off_stop_id  on_stop     off_stop  sum_of_txn_times  \\\n",
       "0    U101001     U101001  捷運科技大樓站      捷運科技大樓站               139   \n",
       "1    U101001     U101002  捷運科技大樓站  復興南路二段273號前                47   \n",
       "2    U101001     U101003  捷運科技大樓站    國北教大實小東側門                24   \n",
       "3    U101001     U101004  捷運科技大樓站       和平公園東側               121   \n",
       "4    U101001     U101005  捷運科技大樓站    辛亥復興路口西北側               185   \n",
       "\n",
       "  district_origin district_destination  width  \\\n",
       "0             大安區                  大安區  2.415   \n",
       "1             大安區                  大安區  1.472   \n",
       "2             大安區                  大安區  1.236   \n",
       "3             大安區                  大安區  2.231   \n",
       "4             大安區                  大安區  2.887   \n",
       "\n",
       "                                     coordinates  distance  \\\n",
       "0   [[121.5436, 25.02605], [121.5436, 25.02605]]     0.000   \n",
       "1  [[121.5436, 25.02605], [121.54357, 25.02565]]     0.024   \n",
       "2  [[121.5436, 25.02605], [121.54124, 25.02429]]     0.282   \n",
       "3  [[121.5436, 25.02605], [121.54282, 25.02351]]     0.171   \n",
       "4  [[121.5436, 25.02605], [121.54299, 25.02153]]     0.272   \n",
       "\n",
       "    on_stop_coordinates   off_stop_coordinates  txn_times_per_day  \n",
       "0  [121.5436, 25.02605]   [121.5436, 25.02605]             69.500  \n",
       "1  [121.5436, 25.02605]  [121.54357, 25.02565]             23.500  \n",
       "2  [121.5436, 25.02605]  [121.54124, 25.02429]             12.000  \n",
       "3  [121.5436, 25.02605]  [121.54282, 25.02351]             60.500  \n",
       "4  [121.5436, 25.02605]  [121.54299, 25.02153]             92.500  "
      ]
     },
     "execution_count": 3,
     "metadata": {},
     "output_type": "execute_result"
    }
   ],
   "source": [
    "# basic info\n",
    "df_weekend.head()"
   ]
  },
  {
   "cell_type": "code",
   "execution_count": 4,
   "metadata": {},
   "outputs": [
    {
     "data": {
      "text/html": [
       "<div>\n",
       "<style scoped>\n",
       "    .dataframe tbody tr th:only-of-type {\n",
       "        vertical-align: middle;\n",
       "    }\n",
       "\n",
       "    .dataframe tbody tr th {\n",
       "        vertical-align: top;\n",
       "    }\n",
       "\n",
       "    .dataframe thead th {\n",
       "        text-align: right;\n",
       "    }\n",
       "</style>\n",
       "<table border=\"1\" class=\"dataframe\">\n",
       "  <thead>\n",
       "    <tr style=\"text-align: right;\">\n",
       "      <th></th>\n",
       "      <th>on_stop_id</th>\n",
       "      <th>off_stop_id</th>\n",
       "      <th>on_stop</th>\n",
       "      <th>off_stop</th>\n",
       "      <th>sum_of_txn_times</th>\n",
       "      <th>district_origin</th>\n",
       "      <th>district_destination</th>\n",
       "      <th>width</th>\n",
       "      <th>coordinates</th>\n",
       "      <th>distance</th>\n",
       "      <th>on_stop_coordinates</th>\n",
       "      <th>off_stop_coordinates</th>\n",
       "      <th>txn_times_per_day</th>\n",
       "    </tr>\n",
       "  </thead>\n",
       "  <tbody>\n",
       "    <tr>\n",
       "      <th>0</th>\n",
       "      <td>U101001</td>\n",
       "      <td>U101001</td>\n",
       "      <td>捷運科技大樓站</td>\n",
       "      <td>捷運科技大樓站</td>\n",
       "      <td>332</td>\n",
       "      <td>大安區</td>\n",
       "      <td>大安區</td>\n",
       "      <td>2.393</td>\n",
       "      <td>[[121.5436, 25.02605], [121.5436, 25.02605]]</td>\n",
       "      <td>0.000</td>\n",
       "      <td>[121.5436, 25.02605]</td>\n",
       "      <td>[121.5436, 25.02605]</td>\n",
       "      <td>66.400</td>\n",
       "    </tr>\n",
       "    <tr>\n",
       "      <th>1</th>\n",
       "      <td>U101001</td>\n",
       "      <td>U101002</td>\n",
       "      <td>捷運科技大樓站</td>\n",
       "      <td>復興南路二段273號前</td>\n",
       "      <td>109</td>\n",
       "      <td>大安區</td>\n",
       "      <td>大安區</td>\n",
       "      <td>1.454</td>\n",
       "      <td>[[121.5436, 25.02605], [121.54357, 25.02565]]</td>\n",
       "      <td>0.024</td>\n",
       "      <td>[121.5436, 25.02605]</td>\n",
       "      <td>[121.54357, 25.02565]</td>\n",
       "      <td>21.800</td>\n",
       "    </tr>\n",
       "    <tr>\n",
       "      <th>2</th>\n",
       "      <td>U101001</td>\n",
       "      <td>U101003</td>\n",
       "      <td>捷運科技大樓站</td>\n",
       "      <td>國北教大實小東側門</td>\n",
       "      <td>98</td>\n",
       "      <td>大安區</td>\n",
       "      <td>大安區</td>\n",
       "      <td>1.408</td>\n",
       "      <td>[[121.5436, 25.02605], [121.54124, 25.02429]]</td>\n",
       "      <td>0.282</td>\n",
       "      <td>[121.5436, 25.02605]</td>\n",
       "      <td>[121.54124, 25.02429]</td>\n",
       "      <td>19.600</td>\n",
       "    </tr>\n",
       "    <tr>\n",
       "      <th>3</th>\n",
       "      <td>U101001</td>\n",
       "      <td>U101004</td>\n",
       "      <td>捷運科技大樓站</td>\n",
       "      <td>和平公園東側</td>\n",
       "      <td>345</td>\n",
       "      <td>大安區</td>\n",
       "      <td>大安區</td>\n",
       "      <td>2.448</td>\n",
       "      <td>[[121.5436, 25.02605], [121.54282, 25.02351]]</td>\n",
       "      <td>0.171</td>\n",
       "      <td>[121.5436, 25.02605]</td>\n",
       "      <td>[121.54282, 25.02351]</td>\n",
       "      <td>69.000</td>\n",
       "    </tr>\n",
       "    <tr>\n",
       "      <th>4</th>\n",
       "      <td>U101001</td>\n",
       "      <td>U101005</td>\n",
       "      <td>捷運科技大樓站</td>\n",
       "      <td>辛亥復興路口西北側</td>\n",
       "      <td>1028</td>\n",
       "      <td>大安區</td>\n",
       "      <td>大安區</td>\n",
       "      <td>5.322</td>\n",
       "      <td>[[121.5436, 25.02605], [121.54299, 25.02153]]</td>\n",
       "      <td>0.272</td>\n",
       "      <td>[121.5436, 25.02605]</td>\n",
       "      <td>[121.54299, 25.02153]</td>\n",
       "      <td>205.600</td>\n",
       "    </tr>\n",
       "  </tbody>\n",
       "</table>\n",
       "</div>"
      ],
      "text/plain": [
       "  on_stop_id off_stop_id  on_stop     off_stop  sum_of_txn_times  \\\n",
       "0    U101001     U101001  捷運科技大樓站      捷運科技大樓站               332   \n",
       "1    U101001     U101002  捷運科技大樓站  復興南路二段273號前               109   \n",
       "2    U101001     U101003  捷運科技大樓站    國北教大實小東側門                98   \n",
       "3    U101001     U101004  捷運科技大樓站       和平公園東側               345   \n",
       "4    U101001     U101005  捷運科技大樓站    辛亥復興路口西北側              1028   \n",
       "\n",
       "  district_origin district_destination  width  \\\n",
       "0             大安區                  大安區  2.393   \n",
       "1             大安區                  大安區  1.454   \n",
       "2             大安區                  大安區  1.408   \n",
       "3             大安區                  大安區  2.448   \n",
       "4             大安區                  大安區  5.322   \n",
       "\n",
       "                                     coordinates  distance  \\\n",
       "0   [[121.5436, 25.02605], [121.5436, 25.02605]]     0.000   \n",
       "1  [[121.5436, 25.02605], [121.54357, 25.02565]]     0.024   \n",
       "2  [[121.5436, 25.02605], [121.54124, 25.02429]]     0.282   \n",
       "3  [[121.5436, 25.02605], [121.54282, 25.02351]]     0.171   \n",
       "4  [[121.5436, 25.02605], [121.54299, 25.02153]]     0.272   \n",
       "\n",
       "    on_stop_coordinates   off_stop_coordinates  txn_times_per_day  \n",
       "0  [121.5436, 25.02605]   [121.5436, 25.02605]             66.400  \n",
       "1  [121.5436, 25.02605]  [121.54357, 25.02565]             21.800  \n",
       "2  [121.5436, 25.02605]  [121.54124, 25.02429]             19.600  \n",
       "3  [121.5436, 25.02605]  [121.54282, 25.02351]             69.000  \n",
       "4  [121.5436, 25.02605]  [121.54299, 25.02153]            205.600  "
      ]
     },
     "execution_count": 4,
     "metadata": {},
     "output_type": "execute_result"
    }
   ],
   "source": [
    "df_weekday.head()"
   ]
  },
  {
   "cell_type": "code",
   "execution_count": 5,
   "metadata": {},
   "outputs": [
    {
     "data": {
      "text/html": [
       "<div>\n",
       "<style scoped>\n",
       "    .dataframe tbody tr th:only-of-type {\n",
       "        vertical-align: middle;\n",
       "    }\n",
       "\n",
       "    .dataframe tbody tr th {\n",
       "        vertical-align: top;\n",
       "    }\n",
       "\n",
       "    .dataframe thead th {\n",
       "        text-align: right;\n",
       "    }\n",
       "</style>\n",
       "<table border=\"1\" class=\"dataframe\">\n",
       "  <thead>\n",
       "    <tr style=\"text-align: right;\">\n",
       "      <th></th>\n",
       "      <th>sum_of_txn_times</th>\n",
       "      <th>width</th>\n",
       "      <th>distance</th>\n",
       "      <th>txn_times_per_day</th>\n",
       "    </tr>\n",
       "  </thead>\n",
       "  <tbody>\n",
       "    <tr>\n",
       "      <th>count</th>\n",
       "      <td>187182.000</td>\n",
       "      <td>187182.000</td>\n",
       "      <td>187182.000</td>\n",
       "      <td>187182.000</td>\n",
       "    </tr>\n",
       "    <tr>\n",
       "      <th>mean</th>\n",
       "      <td>5.905</td>\n",
       "      <td>1.050</td>\n",
       "      <td>2.088</td>\n",
       "      <td>2.953</td>\n",
       "    </tr>\n",
       "    <tr>\n",
       "      <th>std</th>\n",
       "      <td>19.452</td>\n",
       "      <td>0.200</td>\n",
       "      <td>2.035</td>\n",
       "      <td>9.726</td>\n",
       "    </tr>\n",
       "    <tr>\n",
       "      <th>min</th>\n",
       "      <td>1.000</td>\n",
       "      <td>1.000</td>\n",
       "      <td>0.000</td>\n",
       "      <td>0.500</td>\n",
       "    </tr>\n",
       "    <tr>\n",
       "      <th>25%</th>\n",
       "      <td>1.000</td>\n",
       "      <td>1.000</td>\n",
       "      <td>0.852</td>\n",
       "      <td>0.500</td>\n",
       "    </tr>\n",
       "    <tr>\n",
       "      <th>50%</th>\n",
       "      <td>2.000</td>\n",
       "      <td>1.010</td>\n",
       "      <td>1.498</td>\n",
       "      <td>1.000</td>\n",
       "    </tr>\n",
       "    <tr>\n",
       "      <th>75%</th>\n",
       "      <td>4.000</td>\n",
       "      <td>1.031</td>\n",
       "      <td>2.605</td>\n",
       "      <td>2.000</td>\n",
       "    </tr>\n",
       "    <tr>\n",
       "      <th>max</th>\n",
       "      <td>1366.000</td>\n",
       "      <td>15.000</td>\n",
       "      <td>28.797</td>\n",
       "      <td>683.000</td>\n",
       "    </tr>\n",
       "  </tbody>\n",
       "</table>\n",
       "</div>"
      ],
      "text/plain": [
       "       sum_of_txn_times      width   distance  txn_times_per_day\n",
       "count        187182.000 187182.000 187182.000         187182.000\n",
       "mean              5.905      1.050      2.088              2.953\n",
       "std              19.452      0.200      2.035              9.726\n",
       "min               1.000      1.000      0.000              0.500\n",
       "25%               1.000      1.000      0.852              0.500\n",
       "50%               2.000      1.010      1.498              1.000\n",
       "75%               4.000      1.031      2.605              2.000\n",
       "max            1366.000     15.000     28.797            683.000"
      ]
     },
     "execution_count": 5,
     "metadata": {},
     "output_type": "execute_result"
    }
   ],
   "source": [
    "df_weekend.describe()"
   ]
  },
  {
   "cell_type": "code",
   "execution_count": 6,
   "metadata": {},
   "outputs": [
    {
     "data": {
      "text/html": [
       "<div>\n",
       "<style scoped>\n",
       "    .dataframe tbody tr th:only-of-type {\n",
       "        vertical-align: middle;\n",
       "    }\n",
       "\n",
       "    .dataframe tbody tr th {\n",
       "        vertical-align: top;\n",
       "    }\n",
       "\n",
       "    .dataframe thead th {\n",
       "        text-align: right;\n",
       "    }\n",
       "</style>\n",
       "<table border=\"1\" class=\"dataframe\">\n",
       "  <thead>\n",
       "    <tr style=\"text-align: right;\">\n",
       "      <th></th>\n",
       "      <th>sum_of_txn_times</th>\n",
       "      <th>width</th>\n",
       "      <th>distance</th>\n",
       "      <th>txn_times_per_day</th>\n",
       "    </tr>\n",
       "  </thead>\n",
       "  <tbody>\n",
       "    <tr>\n",
       "      <th>count</th>\n",
       "      <td>261134.000</td>\n",
       "      <td>261134.000</td>\n",
       "      <td>261134.000</td>\n",
       "      <td>261134.000</td>\n",
       "    </tr>\n",
       "    <tr>\n",
       "      <th>mean</th>\n",
       "      <td>11.011</td>\n",
       "      <td>1.042</td>\n",
       "      <td>2.201</td>\n",
       "      <td>2.202</td>\n",
       "    </tr>\n",
       "    <tr>\n",
       "      <th>std</th>\n",
       "      <td>46.998</td>\n",
       "      <td>0.198</td>\n",
       "      <td>1.934</td>\n",
       "      <td>9.400</td>\n",
       "    </tr>\n",
       "    <tr>\n",
       "      <th>min</th>\n",
       "      <td>1.000</td>\n",
       "      <td>1.000</td>\n",
       "      <td>0.000</td>\n",
       "      <td>0.200</td>\n",
       "    </tr>\n",
       "    <tr>\n",
       "      <th>25%</th>\n",
       "      <td>1.000</td>\n",
       "      <td>1.000</td>\n",
       "      <td>0.968</td>\n",
       "      <td>0.200</td>\n",
       "    </tr>\n",
       "    <tr>\n",
       "      <th>50%</th>\n",
       "      <td>2.000</td>\n",
       "      <td>1.004</td>\n",
       "      <td>1.671</td>\n",
       "      <td>0.400</td>\n",
       "    </tr>\n",
       "    <tr>\n",
       "      <th>75%</th>\n",
       "      <td>7.000</td>\n",
       "      <td>1.025</td>\n",
       "      <td>2.800</td>\n",
       "      <td>1.400</td>\n",
       "    </tr>\n",
       "    <tr>\n",
       "      <th>max</th>\n",
       "      <td>3328.000</td>\n",
       "      <td>15.000</td>\n",
       "      <td>32.654</td>\n",
       "      <td>665.600</td>\n",
       "    </tr>\n",
       "  </tbody>\n",
       "</table>\n",
       "</div>"
      ],
      "text/plain": [
       "       sum_of_txn_times      width   distance  txn_times_per_day\n",
       "count        261134.000 261134.000 261134.000         261134.000\n",
       "mean             11.011      1.042      2.201              2.202\n",
       "std              46.998      0.198      1.934              9.400\n",
       "min               1.000      1.000      0.000              0.200\n",
       "25%               1.000      1.000      0.968              0.200\n",
       "50%               2.000      1.004      1.671              0.400\n",
       "75%               7.000      1.025      2.800              1.400\n",
       "max            3328.000     15.000     32.654            665.600"
      ]
     },
     "execution_count": 6,
     "metadata": {},
     "output_type": "execute_result"
    }
   ],
   "source": [
    "df_weekday.describe()"
   ]
  },
  {
   "cell_type": "code",
   "execution_count": 7,
   "metadata": {},
   "outputs": [
    {
     "data": {
      "text/plain": [
       "Text(0.5, 0, '交易次數')"
      ]
     },
     "execution_count": 7,
     "metadata": {},
     "output_type": "execute_result"
    },
    {
     "data": {
      "image/png": "[encoded data removed]",
      "text/plain": [
       "<Figure size 2000x500 with 2 Axes>"
      ]
     },
     "metadata": {},
     "output_type": "display_data"
    }
   ],
   "source": [
    "# 透過箱型圖觀察平日與週末的交易次數分布\n",
    "\n",
    "fig, (ax1, ax2) = plt.subplots(1, 2, figsize=(20, 5))\n",
    "\n",
    "sns.boxplot(data=df_weekday, x=\"txn_times_per_day\", ax=ax1)\n",
    "ax1.set_title(\"平日交易次數分布\")\n",
    "ax1.set_xlabel(\"交易次數\")\n",
    "\n",
    "sns.boxplot(data=df_weekend, x=\"txn_times_per_day\", ax=ax2)\n",
    "ax2.set_title(\"週末交易次數分布\")\n",
    "ax2.set_xlabel(\"交易次數\")\n"
   ]
  },
  {
   "cell_type": "markdown",
   "metadata": {},
   "source": [
    "## 2. Visualization"
   ]
  },
  {
   "cell_type": "markdown",
   "metadata": {},
   "source": [
    "### 前十熱門站點 "
   ]
  },
  {
   "cell_type": "code",
   "execution_count": 8,
   "metadata": {},
   "outputs": [
    {
     "data": {
      "image/png": "[encoded data removed]",
      "text/plain": [
       "<Figure size 2000x500 with 2 Axes>"
      ]
     },
     "metadata": {},
     "output_type": "display_data"
    }
   ],
   "source": [
    "grouped_weekday = df_weekday.groupby([\"on_stop\", \"off_stop\"])[\"txn_times_per_day\"].sum()\n",
    "top_routes_weekday = grouped_weekday.nlargest(10).reset_index()\n",
    "\n",
    "grouped_weekend = df_weekend.groupby([\"on_stop\", \"off_stop\"])[\"txn_times_per_day\"].sum()\n",
    "top_routes_weekend = grouped_weekend.nlargest(10).reset_index()\n",
    "\n",
    "\n",
    "fig, (ax1, ax2) = plt.subplots(1, 2, figsize=(20, 5))\n",
    "\n",
    "sns.barplot(\n",
    "    data=top_routes_weekday,\n",
    "    x=\"txn_times_per_day\",\n",
    "    y=top_routes_weekday.index,\n",
    "    orient=\"h\",\n",
    "    ax=ax1,\n",
    ")\n",
    "ax1.set_title(\"平日前十熱門站點\")\n",
    "ax1.set_xlabel(\"交易次數\")\n",
    "ax1.set_ylabel(\"起訖站點對\")\n",
    "ax1.set_yticks(np.arange(len(top_routes_weekday.index)))\n",
    "ax1.set_yticklabels(\n",
    "    [\n",
    "        f\"{x[0]} -> {x[1]}\"\n",
    "        for x in zip(top_routes_weekday[\"on_stop\"], top_routes_weekday[\"off_stop\"])\n",
    "    ]\n",
    ")\n",
    "\n",
    "sns.barplot(\n",
    "    data=top_routes_weekend,\n",
    "    x=\"txn_times_per_day\",\n",
    "    y=top_routes_weekend.index,\n",
    "    orient=\"h\",\n",
    "    ax=ax2,\n",
    ")\n",
    "ax2.set_title(\"週末前十熱門站點\")\n",
    "ax2.set_xlabel(\"交易次數\")\n",
    "ax2.set_ylabel(\"起訖站點對\")\n",
    "ax2.set_yticks(np.arange(len(top_routes_weekend.index)))\n",
    "ax2.set_yticklabels(\n",
    "    [\n",
    "        f\"{x[0]} -> {x[1]}\"\n",
    "        for x in zip(top_routes_weekend[\"on_stop\"], top_routes_weekend[\"off_stop\"])\n",
    "    ]\n",
    ")\n",
    "\n",
    "# 調整子圖之間的間距\n",
    "plt.tight_layout()\n",
    "plt.show()"
   ]
  },
  {
   "cell_type": "markdown",
   "metadata": {},
   "source": [
    "### 跨行政區的流動"
   ]
  },
  {
   "cell_type": "code",
   "execution_count": 9,
   "metadata": {},
   "outputs": [
    {
     "data": {
      "image/png": "[encoded data removed]",
      "text/plain": [
       "<Figure size 2000x500 with 2 Axes>"
      ]
     },
     "metadata": {},
     "output_type": "display_data"
    }
   ],
   "source": [
    "cross_district_flow_weekday = df_weekday[df_weekday[\"district_origin\"] != df_weekday[\"district_destination\"]]\n",
    "top_routes_weekday = cross_district_flow_weekday.groupby([\"district_origin\", \"district_destination\"])[\"txn_times_per_day\"].sum().nlargest(10).reset_index()\n",
    "\n",
    "cross_district_flow_weekend = df_weekend[df_weekend[\"district_origin\"] != df_weekend[\"district_destination\"]]\n",
    "top_routes_weekend = cross_district_flow_weekend.groupby([\"district_origin\", \"district_destination\"])[\"txn_times_per_day\"].sum().nlargest(10).reset_index()\n",
    "\n",
    "\n",
    "fig, (ax1, ax2) = plt.subplots(1, 2, figsize=(20, 5))\n",
    "\n",
    "sns.barplot(\n",
    "    data=top_routes_weekday,\n",
    "    x=\"txn_times_per_day\",\n",
    "    y=top_routes_weekday.index,\n",
    "    orient=\"h\",\n",
    "    ax=ax1,\n",
    ")\n",
    "ax1.set_title(\"平日前十熱門站點\")\n",
    "ax1.set_xlabel(\"交易次數\")\n",
    "ax1.set_ylabel(\"起訖站點對\")\n",
    "ax1.set_yticks(np.arange(len(top_routes_weekday.index)))\n",
    "ax1.set_yticklabels(\n",
    "    [\n",
    "        f\"{x[0]} -> {x[1]}\"\n",
    "        for x in zip(top_routes_weekday[\"district_origin\"], top_routes_weekday[\"district_destination\"])\n",
    "    ]\n",
    ")\n",
    "\n",
    "sns.barplot(\n",
    "    data=top_routes_weekend,\n",
    "    x=\"txn_times_per_day\",\n",
    "    y=top_routes_weekend.index,\n",
    "    orient=\"h\",\n",
    "    ax=ax2,\n",
    ")\n",
    "ax2.set_title(\"週末前十熱門站點\")\n",
    "ax2.set_xlabel(\"交易次數\")\n",
    "ax2.set_ylabel(\"起訖站點對\")\n",
    "ax2.set_yticks(np.arange(len(top_routes_weekend.index)))\n",
    "ax2.set_yticklabels(\n",
    "    [\n",
    "        f\"{x[0]} -> {x[1]}\"\n",
    "        for x in zip(top_routes_weekend[\"district_origin\"], top_routes_weekend[\"district_destination\"])\n",
    "    ]\n",
    ")\n",
    "\n",
    "# 調整子圖之間的間距\n",
    "plt.tight_layout()\n",
    "plt.show()"
   ]
  },
  {
   "cell_type": "code",
   "execution_count": 10,
   "metadata": {},
   "outputs": [
    {
     "data": {
      "image/png": "[encoded data removed]",
      "text/plain": [
       "<Figure size 2000x500 with 2 Axes>"
      ]
     },
     "metadata": {},
     "output_type": "display_data"
    }
   ],
   "source": [
    "keywords = \"大學|高中|國中|國小\"\n",
    "school_flow_weekday = df_weekday[\n",
    "    df_weekday[\"on_stop\"].str.contains(keywords, regex=True)\n",
    "    | df_weekday[\"off_stop\"].str.contains(keywords, regex=True)\n",
    "]\n",
    "school_flow_weekend = df_weekend[\n",
    "    df_weekend[\"on_stop\"].str.contains(keywords, regex=True)\n",
    "    | df_weekend[\"off_stop\"].str.contains(keywords, regex=True)\n",
    "]\n",
    "\n",
    "grouped_school_weekday = school_flow_weekday.groupby([\"on_stop\", \"off_stop\"])[\n",
    "    \"txn_times_per_day\"\n",
    "].sum()\n",
    "top_school_routes_weekday = grouped_school_weekday.nlargest(10).reset_index()\n",
    "\n",
    "grouped_school_weekend = school_flow_weekend.groupby([\"on_stop\", \"off_stop\"])[\n",
    "    \"txn_times_per_day\"\n",
    "].sum()\n",
    "top_school_routes_weekend = grouped_school_weekend.nlargest(10).reset_index()\n",
    "\n",
    "\n",
    "fig, (ax1, ax2) = plt.subplots(1, 2, figsize=(20, 5))\n",
    "\n",
    "sns.barplot(\n",
    "    data=top_school_routes_weekday,\n",
    "    x=\"txn_times_per_day\",\n",
    "    y=top_school_routes_weekday.index,\n",
    "    orient=\"h\",\n",
    "    ax=ax1,\n",
    ")\n",
    "\n",
    "ax1.set_title(\"平日前十熱門學校站點\")\n",
    "\n",
    "ax1.set_xlabel(\"交易次數\")\n",
    "\n",
    "ax1.set_ylabel(\"起訖站點對\")\n",
    "\n",
    "ax1.set_yticks(np.arange(len(top_school_routes_weekday.index)))\n",
    "\n",
    "ax1.set_yticklabels(\n",
    "    [\n",
    "        f\"{x[0]} -> {x[1]}\"\n",
    "        for x in zip(\n",
    "            top_school_routes_weekday[\"on_stop\"], top_school_routes_weekday[\"off_stop\"]\n",
    "        )\n",
    "    ]\n",
    ")\n",
    "\n",
    "sns.barplot(\n",
    "    data=top_school_routes_weekend,\n",
    "    x=\"txn_times_per_day\",\n",
    "    y=top_school_routes_weekend.index,\n",
    "    orient=\"h\",\n",
    "    ax=ax2,\n",
    ")\n",
    "\n",
    "ax2.set_title(\"週末前十熱門學校站點\")\n",
    "\n",
    "ax2.set_xlabel(\"交易次數\")\n",
    "\n",
    "ax2.set_ylabel(\"起訖站點對\")\n",
    "\n",
    "ax2.set_yticks(np.arange(len(top_school_routes_weekend.index)))\n",
    "\n",
    "ax2.set_yticklabels(\n",
    "    [\n",
    "        f\"{x[0]} -> {x[1]}\"\n",
    "        for x in zip(\n",
    "            top_school_routes_weekend[\"on_stop\"], top_school_routes_weekend[\"off_stop\"]\n",
    "        )\n",
    "    ]\n",
    ")\n",
    "\n",
    "# 調整子圖之間的間距\n",
    "plt.tight_layout()\n",
    "plt.show()"
   ]
  },
  {
   "cell_type": "code",
   "execution_count": 11,
   "metadata": {},
   "outputs": [
    {
     "data": {
      "application/vnd.plotly.v1+json": {
       "config": {
        "plotlyServerURL": "https://plot.ly"
       },
       "data": [
        {
         "customdata": [
          [
           "大稻埕碼頭",
           "大稻埕碼頭",
           683,
           15
          ],
          [
           "大稻埕碼頭",
           "大稻埕碼頭",
           683,
           15
          ]
         ],
         "hovertemplate": "stop_pair=大稻埕碼頭 -> 大稻埕碼頭<br>lat=%{lat}<br>lon=%{lon}<br>on_stop=%{customdata[0]}<br>off_stop=%{customdata[1]}<br>txn_times_per_day=%{customdata[2]}<extra></extra>",
         "lat": [
          25.05662,
          25.05662
         ],
         "legendgroup": "大稻埕碼頭 -> 大稻埕碼頭",
         "line": {
          "color": "#636efa"
         },
         "lon": [
          121.50783,
          121.50783
         ],
         "mode": "lines",
         "name": "大稻埕碼頭 -> 大稻埕碼頭",
         "showlegend": true,
         "subplot": "mapbox",
         "type": "scattermapbox"
        },
        {
         "customdata": [
          [
           "臺灣科技大學後門",
           "捷運公館站(2號出口)",
           573,
           12.743589743589745
          ],
          [
           "臺灣科技大學後門",
           "捷運公館站(2號出口)",
           573,
           12.743589743589745
          ]
         ],
         "hovertemplate": "stop_pair=臺灣科技大學後門 -> 捷運公館站(2號出口)<br>lat=%{lat}<br>lon=%{lon}<br>on_stop=%{customdata[0]}<br>off_stop=%{customdata[1]}<br>txn_times_per_day=%{customdata[2]}<extra></extra>",
         "lat": [
          25.01182,
          25.01491
         ],
         "legendgroup": "臺灣科技大學後門 -> 捷運公館站(2號出口)",
         "line": {
          "color": "#EF553B"
         },
         "lon": [
          121.54165,
          121.53438
         ],
         "mode": "lines",
         "name": "臺灣科技大學後門 -> 捷運公館站(2號出口)",
         "showlegend": true,
         "subplot": "mapbox",
         "type": "scattermapbox"
        },
        {
         "customdata": [
          [
           "臺灣科技大學側門",
           "捷運公館站(2號出口)",
           530,
           11.861538461538462
          ],
          [
           "臺灣科技大學側門",
           "捷運公館站(2號出口)",
           530,
           11.861538461538462
          ]
         ],
         "hovertemplate": "stop_pair=臺灣科技大學側門 -> 捷運公館站(2號出口)<br>lat=%{lat}<br>lon=%{lon}<br>on_stop=%{customdata[0]}<br>off_stop=%{customdata[1]}<br>txn_times_per_day=%{customdata[2]}<extra></extra>",
         "lat": [
          25.01295,
          25.01491
         ],
         "legendgroup": "臺灣科技大學側門 -> 捷運公館站(2號出口)",
         "line": {
          "color": "#00cc96"
         },
         "lon": [
          121.53973,
          121.53438
         ],
         "mode": "lines",
         "name": "臺灣科技大學側門 -> 捷運公館站(2號出口)",
         "showlegend": true,
         "subplot": "mapbox",
         "type": "scattermapbox"
        },
        {
         "customdata": [
          [
           "捷運公館站(2號出口)",
           "臺灣科技大學後門",
           517,
           11.594871794871796
          ],
          [
           "捷運公館站(2號出口)",
           "臺灣科技大學後門",
           517,
           11.594871794871796
          ]
         ],
         "hovertemplate": "stop_pair=捷運公館站(2號出口) -> 臺灣科技大學後門<br>lat=%{lat}<br>lon=%{lon}<br>on_stop=%{customdata[0]}<br>off_stop=%{customdata[1]}<br>txn_times_per_day=%{customdata[2]}<extra></extra>",
         "lat": [
          25.01491,
          25.01182
         ],
         "legendgroup": "捷運公館站(2號出口) -> 臺灣科技大學後門",
         "line": {
          "color": "#ab63fa"
         },
         "lon": [
          121.53438,
          121.54165
         ],
         "mode": "lines",
         "name": "捷運公館站(2號出口) -> 臺灣科技大學後門",
         "showlegend": true,
         "subplot": "mapbox",
         "type": "scattermapbox"
        },
        {
         "customdata": [
          [
           "捷運劍潭站(2號出口)",
           "百齡國小",
           500.5,
           11.256410256410255
          ],
          [
           "捷運劍潭站(2號出口)",
           "百齡國小",
           500.5,
           11.256410256410255
          ]
         ],
         "hovertemplate": "stop_pair=捷運劍潭站(2號出口) -> 百齡國小<br>lat=%{lat}<br>lon=%{lon}<br>on_stop=%{customdata[0]}<br>off_stop=%{customdata[1]}<br>txn_times_per_day=%{customdata[2]}<extra></extra>",
         "lat": [
          25.08288,
          25.08521
         ],
         "legendgroup": "捷運劍潭站(2號出口) -> 百齡國小",
         "line": {
          "color": "#FFA15A"
         },
         "lon": [
          121.52455,
          121.51918
         ],
         "mode": "lines",
         "name": "捷運劍潭站(2號出口) -> 百齡國小",
         "showlegend": true,
         "subplot": "mapbox",
         "type": "scattermapbox"
        },
        {
         "customdata": [
          [
           "百齡國小",
           "捷運劍潭站(2號出口)",
           481,
           10.856410256410255
          ],
          [
           "百齡國小",
           "捷運劍潭站(2號出口)",
           481,
           10.856410256410255
          ]
         ],
         "hovertemplate": "stop_pair=百齡國小 -> 捷運劍潭站(2號出口)<br>lat=%{lat}<br>lon=%{lon}<br>on_stop=%{customdata[0]}<br>off_stop=%{customdata[1]}<br>txn_times_per_day=%{customdata[2]}<extra></extra>",
         "lat": [
          25.08521,
          25.08288
         ],
         "legendgroup": "百齡國小 -> 捷運劍潭站(2號出口)",
         "line": {
          "color": "#19d3f3"
         },
         "lon": [
          121.51918,
          121.52455
         ],
         "mode": "lines",
         "name": "百齡國小 -> 捷運劍潭站(2號出口)",
         "showlegend": true,
         "subplot": "mapbox",
         "type": "scattermapbox"
        },
        {
         "customdata": [
          [
           "捷運公館站(2號出口)",
           "臺灣科技大學側門",
           476,
           10.753846153846151
          ],
          [
           "捷運公館站(2號出口)",
           "臺灣科技大學側門",
           476,
           10.753846153846151
          ]
         ],
         "hovertemplate": "stop_pair=捷運公館站(2號出口) -> 臺灣科技大學側門<br>lat=%{lat}<br>lon=%{lon}<br>on_stop=%{customdata[0]}<br>off_stop=%{customdata[1]}<br>txn_times_per_day=%{customdata[2]}<extra></extra>",
         "lat": [
          25.01491,
          25.01295
         ],
         "legendgroup": "捷運公館站(2號出口) -> 臺灣科技大學側門",
         "line": {
          "color": "#FF6692"
         },
         "lon": [
          121.53438,
          121.53973
         ],
         "mode": "lines",
         "name": "捷運公館站(2號出口) -> 臺灣科技大學側門",
         "showlegend": true,
         "subplot": "mapbox",
         "type": "scattermapbox"
        },
        {
         "customdata": [
          [
           "捷運大安森林公園站(5號出口)",
           "臺北市立圖書館(總館)",
           369.5,
           8.569230769230769
          ],
          [
           "捷運大安森林公園站(5號出口)",
           "臺北市立圖書館(總館)",
           369.5,
           8.569230769230769
          ]
         ],
         "hovertemplate": "stop_pair=捷運大安森林公園站(5號出口) -> 臺北市立圖書館(總館)<br>lat=%{lat}<br>lon=%{lon}<br>on_stop=%{customdata[0]}<br>off_stop=%{customdata[1]}<br>txn_times_per_day=%{customdata[2]}<extra></extra>",
         "lat": [
          25.03336,
          25.02895
         ],
         "legendgroup": "捷運大安森林公園站(5號出口) -> 臺北市立圖書館(總館)",
         "line": {
          "color": "#B6E880"
         },
         "lon": [
          121.5364,
          121.5379
         ],
         "mode": "lines",
         "name": "捷運大安森林公園站(5號出口) -> 臺北市立圖書館(總館)",
         "showlegend": true,
         "subplot": "mapbox",
         "type": "scattermapbox"
        },
        {
         "customdata": [
          [
           "健安新城",
           "捷運南京三民站(1號出口)",
           367.5,
           8.528205128205128
          ],
          [
           "健安新城",
           "捷運南京三民站(1號出口)",
           367.5,
           8.528205128205128
          ]
         ],
         "hovertemplate": "stop_pair=健安新城 -> 捷運南京三民站(1號出口)<br>lat=%{lat}<br>lon=%{lon}<br>on_stop=%{customdata[0]}<br>off_stop=%{customdata[1]}<br>txn_times_per_day=%{customdata[2]}<extra></extra>",
         "lat": [
          25.05606,
          25.05155
         ],
         "legendgroup": "健安新城 -> 捷運南京三民站(1號出口)",
         "line": {
          "color": "#FF97FF"
         },
         "lon": [
          121.56345,
          121.5636
         ],
         "mode": "lines",
         "name": "健安新城 -> 捷運南京三民站(1號出口)",
         "showlegend": true,
         "subplot": "mapbox",
         "type": "scattermapbox"
        },
        {
         "customdata": [
          [
           "捷運劍南路站(2號出口)",
           "樂群二敬業四路口",
           361,
           8.394871794871795
          ],
          [
           "捷運劍南路站(2號出口)",
           "樂群二敬業四路口",
           361,
           8.394871794871795
          ]
         ],
         "hovertemplate": "stop_pair=捷運劍南路站(2號出口) -> 樂群二敬業四路口<br>lat=%{lat}<br>lon=%{lon}<br>on_stop=%{customdata[0]}<br>off_stop=%{customdata[1]}<br>txn_times_per_day=%{customdata[2]}<extra></extra>",
         "lat": [
          25.08401,
          25.07976
         ],
         "legendgroup": "捷運劍南路站(2號出口) -> 樂群二敬業四路口",
         "line": {
          "color": "#FECB52"
         },
         "lon": [
          121.55535,
          121.55813
         ],
         "mode": "lines",
         "name": "捷運劍南路站(2號出口) -> 樂群二敬業四路口",
         "showlegend": true,
         "subplot": "mapbox",
         "type": "scattermapbox"
        },
        {
         "customdata": [
          [
           "臺北市立圖書館(總館)",
           "捷運大安森林公園站(5號出口)",
           356.5,
           8.302564102564103
          ],
          [
           "臺北市立圖書館(總館)",
           "捷運大安森林公園站(5號出口)",
           356.5,
           8.302564102564103
          ]
         ],
         "hovertemplate": "stop_pair=臺北市立圖書館(總館) -> 捷運大安森林公園站(5號出口)<br>lat=%{lat}<br>lon=%{lon}<br>on_stop=%{customdata[0]}<br>off_stop=%{customdata[1]}<br>txn_times_per_day=%{customdata[2]}<extra></extra>",
         "lat": [
          25.02895,
          25.03336
         ],
         "legendgroup": "臺北市立圖書館(總館) -> 捷運大安森林公園站(5號出口)",
         "line": {
          "color": "#636efa"
         },
         "lon": [
          121.5379,
          121.5364
         ],
         "mode": "lines",
         "name": "臺北市立圖書館(總館) -> 捷運大安森林公園站(5號出口)",
         "showlegend": true,
         "subplot": "mapbox",
         "type": "scattermapbox"
        },
        {
         "customdata": [
          [
           "捷運北門站(3號出口)",
           "永樂市場",
           331,
           7.779487179487179
          ],
          [
           "捷運北門站(3號出口)",
           "永樂市場",
           331,
           7.779487179487179
          ]
         ],
         "hovertemplate": "stop_pair=捷運北門站(3號出口) -> 永樂市場<br>lat=%{lat}<br>lon=%{lon}<br>on_stop=%{customdata[0]}<br>off_stop=%{customdata[1]}<br>txn_times_per_day=%{customdata[2]}<extra></extra>",
         "lat": [
          25.04991,
          25.05454
         ],
         "legendgroup": "捷運北門站(3號出口) -> 永樂市場",
         "line": {
          "color": "#EF553B"
         },
         "lon": [
          121.5104,
          121.51052
         ],
         "mode": "lines",
         "name": "捷運北門站(3號出口) -> 永樂市場",
         "showlegend": true,
         "subplot": "mapbox",
         "type": "scattermapbox"
        },
        {
         "customdata": [
          [
           "捷運芝山站(2號出口)_1",
           "蘭雅公園",
           320.5,
           7.564102564102564
          ],
          [
           "捷運芝山站(2號出口)_1",
           "蘭雅公園",
           320.5,
           7.564102564102564
          ]
         ],
         "hovertemplate": "stop_pair=捷運芝山站(2號出口)_1 -> 蘭雅公園<br>lat=%{lat}<br>lon=%{lon}<br>on_stop=%{customdata[0]}<br>off_stop=%{customdata[1]}<br>txn_times_per_day=%{customdata[2]}<extra></extra>",
         "lat": [
          25.10336,
          25.10991
         ],
         "legendgroup": "捷運芝山站(2號出口)_1 -> 蘭雅公園",
         "line": {
          "color": "#00cc96"
         },
         "lon": [
          121.52263,
          121.53039
         ],
         "mode": "lines",
         "name": "捷運芝山站(2號出口)_1 -> 蘭雅公園",
         "showlegend": true,
         "subplot": "mapbox",
         "type": "scattermapbox"
        },
        {
         "customdata": [
          [
           "樂群二敬業四路口",
           "捷運劍南路站(2號出口)",
           319.5,
           7.543589743589743
          ],
          [
           "樂群二敬業四路口",
           "捷運劍南路站(2號出口)",
           319.5,
           7.543589743589743
          ]
         ],
         "hovertemplate": "stop_pair=樂群二敬業四路口 -> 捷運劍南路站(2號出口)<br>lat=%{lat}<br>lon=%{lon}<br>on_stop=%{customdata[0]}<br>off_stop=%{customdata[1]}<br>txn_times_per_day=%{customdata[2]}<extra></extra>",
         "lat": [
          25.07976,
          25.08401
         ],
         "legendgroup": "樂群二敬業四路口 -> 捷運劍南路站(2號出口)",
         "line": {
          "color": "#ab63fa"
         },
         "lon": [
          121.55813,
          121.55535
         ],
         "mode": "lines",
         "name": "樂群二敬業四路口 -> 捷運劍南路站(2號出口)",
         "showlegend": true,
         "subplot": "mapbox",
         "type": "scattermapbox"
        },
        {
         "customdata": [
          [
           "蘭雅公園",
           "捷運芝山站(2號出口)_1",
           317.5,
           7.5025641025641026
          ],
          [
           "蘭雅公園",
           "捷運芝山站(2號出口)_1",
           317.5,
           7.5025641025641026
          ]
         ],
         "hovertemplate": "stop_pair=蘭雅公園 -> 捷運芝山站(2號出口)_1<br>lat=%{lat}<br>lon=%{lon}<br>on_stop=%{customdata[0]}<br>off_stop=%{customdata[1]}<br>txn_times_per_day=%{customdata[2]}<extra></extra>",
         "lat": [
          25.10991,
          25.10336
         ],
         "legendgroup": "蘭雅公園 -> 捷運芝山站(2號出口)_1",
         "line": {
          "color": "#FFA15A"
         },
         "lon": [
          121.53039,
          121.52263
         ],
         "mode": "lines",
         "name": "蘭雅公園 -> 捷運芝山站(2號出口)_1",
         "showlegend": true,
         "subplot": "mapbox",
         "type": "scattermapbox"
        },
        {
         "customdata": [
          [
           "蘭興公園",
           "捷運芝山站(2號出口)_1",
           313.5,
           7.42051282051282
          ],
          [
           "蘭興公園",
           "捷運芝山站(2號出口)_1",
           313.5,
           7.42051282051282
          ]
         ],
         "hovertemplate": "stop_pair=蘭興公園 -> 捷運芝山站(2號出口)_1<br>lat=%{lat}<br>lon=%{lon}<br>on_stop=%{customdata[0]}<br>off_stop=%{customdata[1]}<br>txn_times_per_day=%{customdata[2]}<extra></extra>",
         "lat": [
          25.11184,
          25.10336
         ],
         "legendgroup": "蘭興公園 -> 捷運芝山站(2號出口)_1",
         "line": {
          "color": "#19d3f3"
         },
         "lon": [
          121.52589,
          121.52263
         ],
         "mode": "lines",
         "name": "蘭興公園 -> 捷運芝山站(2號出口)_1",
         "showlegend": true,
         "subplot": "mapbox",
         "type": "scattermapbox"
        },
        {
         "customdata": [
          [
           "捷運南京三民站(1號出口)",
           "健安新城",
           303.5,
           7.215384615384615
          ],
          [
           "捷運南京三民站(1號出口)",
           "健安新城",
           303.5,
           7.215384615384615
          ]
         ],
         "hovertemplate": "stop_pair=捷運南京三民站(1號出口) -> 健安新城<br>lat=%{lat}<br>lon=%{lon}<br>on_stop=%{customdata[0]}<br>off_stop=%{customdata[1]}<br>txn_times_per_day=%{customdata[2]}<extra></extra>",
         "lat": [
          25.05155,
          25.05606
         ],
         "legendgroup": "捷運南京三民站(1號出口) -> 健安新城",
         "line": {
          "color": "#FF6692"
         },
         "lon": [
          121.5636,
          121.56345
         ],
         "mode": "lines",
         "name": "捷運南京三民站(1號出口) -> 健安新城",
         "showlegend": true,
         "subplot": "mapbox",
         "type": "scattermapbox"
        },
        {
         "customdata": [
          [
           "西本願寺廣場",
           "中華桂林路口",
           300,
           7.143589743589743
          ],
          [
           "西本願寺廣場",
           "中華桂林路口",
           300,
           7.143589743589743
          ]
         ],
         "hovertemplate": "stop_pair=西本願寺廣場 -> 中華桂林路口<br>lat=%{lat}<br>lon=%{lon}<br>on_stop=%{customdata[0]}<br>off_stop=%{customdata[1]}<br>txn_times_per_day=%{customdata[2]}<extra></extra>",
         "lat": [
          25.04099,
          25.03771
         ],
         "legendgroup": "西本願寺廣場 -> 中華桂林路口",
         "line": {
          "color": "#B6E880"
         },
         "lon": [
          121.50769,
          121.50662
         ],
         "mode": "lines",
         "name": "西本願寺廣場 -> 中華桂林路口",
         "showlegend": true,
         "subplot": "mapbox",
         "type": "scattermapbox"
        },
        {
         "customdata": [
          [
           "捷運台北101/世貿站(2號出口)",
           "臺北醫學大學",
           298.5,
           7.112820512820512
          ],
          [
           "捷運台北101/世貿站(2號出口)",
           "臺北醫學大學",
           298.5,
           7.112820512820512
          ]
         ],
         "hovertemplate": "stop_pair=捷運台北101/世貿站(2號出口) -> 臺北醫學大學<br>lat=%{lat}<br>lon=%{lon}<br>on_stop=%{customdata[0]}<br>off_stop=%{customdata[1]}<br>txn_times_per_day=%{customdata[2]}<extra></extra>",
         "lat": [
          25.0327,
          25.02668
         ],
         "legendgroup": "捷運台北101/世貿站(2號出口) -> 臺北醫學大學",
         "line": {
          "color": "#FF97FF"
         },
         "lon": [
          121.56157,
          121.56175
         ],
         "mode": "lines",
         "name": "捷運台北101/世貿站(2號出口) -> 臺北醫學大學",
         "showlegend": true,
         "subplot": "mapbox",
         "type": "scattermapbox"
        },
        {
         "customdata": [
          [
           "中華桂林路口",
           "西本願寺廣場",
           296.5,
           7.0717948717948715
          ],
          [
           "中華桂林路口",
           "西本願寺廣場",
           296.5,
           7.0717948717948715
          ]
         ],
         "hovertemplate": "stop_pair=中華桂林路口 -> 西本願寺廣場<br>lat=%{lat}<br>lon=%{lon}<br>on_stop=%{customdata[0]}<br>off_stop=%{customdata[1]}<br>txn_times_per_day=%{customdata[2]}<extra></extra>",
         "lat": [
          25.03771,
          25.04099
         ],
         "legendgroup": "中華桂林路口 -> 西本願寺廣場",
         "line": {
          "color": "#FECB52"
         },
         "lon": [
          121.50662,
          121.50769
         ],
         "mode": "lines",
         "name": "中華桂林路口 -> 西本願寺廣場",
         "showlegend": true,
         "subplot": "mapbox",
         "type": "scattermapbox"
        },
        {
         "customdata": [
          [
           "牯嶺公園",
           "捷運古亭站(2號出口)",
           295.5,
           7.051282051282051
          ],
          [
           "牯嶺公園",
           "捷運古亭站(2號出口)",
           295.5,
           7.051282051282051
          ]
         ],
         "hovertemplate": "stop_pair=牯嶺公園 -> 捷運古亭站(2號出口)<br>lat=%{lat}<br>lon=%{lon}<br>on_stop=%{customdata[0]}<br>off_stop=%{customdata[1]}<br>txn_times_per_day=%{customdata[2]}<extra></extra>",
         "lat": [
          25.02338,
          25.0255
         ],
         "legendgroup": "牯嶺公園 -> 捷運古亭站(2號出口)",
         "line": {
          "color": "#636efa"
         },
         "lon": [
          121.51889,
          121.52346
         ],
         "mode": "lines",
         "name": "牯嶺公園 -> 捷運古亭站(2號出口)",
         "showlegend": true,
         "subplot": "mapbox",
         "type": "scattermapbox"
        },
        {
         "customdata": [
          [
           "捷運古亭站(5號出口)",
           "臺灣師範大學(圖書館)",
           289.5,
           6.9282051282051285
          ],
          [
           "捷運古亭站(5號出口)",
           "臺灣師範大學(圖書館)",
           289.5,
           6.9282051282051285
          ]
         ],
         "hovertemplate": "stop_pair=捷運古亭站(5號出口) -> 臺灣師範大學(圖書館)<br>lat=%{lat}<br>lon=%{lon}<br>on_stop=%{customdata[0]}<br>off_stop=%{customdata[1]}<br>txn_times_per_day=%{customdata[2]}<extra></extra>",
         "lat": [
          25.02715,
          25.0266
         ],
         "legendgroup": "捷運古亭站(5號出口) -> 臺灣師範大學(圖書館)",
         "line": {
          "color": "#EF553B"
         },
         "lon": [
          121.52293,
          121.52973
         ],
         "mode": "lines",
         "name": "捷運古亭站(5號出口) -> 臺灣師範大學(圖書館)",
         "showlegend": true,
         "subplot": "mapbox",
         "type": "scattermapbox"
        },
        {
         "customdata": [
          [
           "臺大男一舍前",
           "捷運公館站(2號出口)",
           289,
           6.917948717948718
          ],
          [
           "臺大男一舍前",
           "捷運公館站(2號出口)",
           289,
           6.917948717948718
          ]
         ],
         "hovertemplate": "stop_pair=臺大男一舍前 -> 捷運公館站(2號出口)<br>lat=%{lat}<br>lon=%{lon}<br>on_stop=%{customdata[0]}<br>off_stop=%{customdata[1]}<br>txn_times_per_day=%{customdata[2]}<extra></extra>",
         "lat": [
          25.01637,
          25.01491
         ],
         "legendgroup": "臺大男一舍前 -> 捷運公館站(2號出口)",
         "line": {
          "color": "#00cc96"
         },
         "lon": [
          121.54535,
          121.53438
         ],
         "mode": "lines",
         "name": "臺大男一舍前 -> 捷運公館站(2號出口)",
         "showlegend": true,
         "subplot": "mapbox",
         "type": "scattermapbox"
        },
        {
         "customdata": [
          [
           "捷運東門站(5號出口)",
           "金華公園",
           288,
           6.897435897435898
          ],
          [
           "捷運東門站(5號出口)",
           "金華公園",
           288,
           6.897435897435898
          ]
         ],
         "hovertemplate": "stop_pair=捷運東門站(5號出口) -> 金華公園<br>lat=%{lat}<br>lon=%{lon}<br>on_stop=%{customdata[0]}<br>off_stop=%{customdata[1]}<br>txn_times_per_day=%{customdata[2]}<extra></extra>",
         "lat": [
          25.03363,
          25.02984
         ],
         "legendgroup": "捷運東門站(5號出口) -> 金華公園",
         "line": {
          "color": "#ab63fa"
         },
         "lon": [
          121.52962,
          121.53107
         ],
         "mode": "lines",
         "name": "捷運東門站(5號出口) -> 金華公園",
         "showlegend": true,
         "subplot": "mapbox",
         "type": "scattermapbox"
        },
        {
         "customdata": [
          [
           "捷運古亭站(2號出口)",
           "牯嶺公園",
           287.5,
           6.887179487179488
          ],
          [
           "捷運古亭站(2號出口)",
           "牯嶺公園",
           287.5,
           6.887179487179488
          ]
         ],
         "hovertemplate": "stop_pair=捷運古亭站(2號出口) -> 牯嶺公園<br>lat=%{lat}<br>lon=%{lon}<br>on_stop=%{customdata[0]}<br>off_stop=%{customdata[1]}<br>txn_times_per_day=%{customdata[2]}<extra></extra>",
         "lat": [
          25.0255,
          25.02338
         ],
         "legendgroup": "捷運古亭站(2號出口) -> 牯嶺公園",
         "line": {
          "color": "#FFA15A"
         },
         "lon": [
          121.52346,
          121.51889
         ],
         "mode": "lines",
         "name": "捷運古亭站(2號出口) -> 牯嶺公園",
         "showlegend": true,
         "subplot": "mapbox",
         "type": "scattermapbox"
        },
        {
         "customdata": [
          [
           "民生活動中心",
           "捷運南京三民站(1號出口)",
           283.5,
           6.805128205128206
          ],
          [
           "民生活動中心",
           "捷運南京三民站(1號出口)",
           283.5,
           6.805128205128206
          ]
         ],
         "hovertemplate": "stop_pair=民生活動中心 -> 捷運南京三民站(1號出口)<br>lat=%{lat}<br>lon=%{lon}<br>on_stop=%{customdata[0]}<br>off_stop=%{customdata[1]}<br>txn_times_per_day=%{customdata[2]}<extra></extra>",
         "lat": [
          25.05907,
          25.05155
         ],
         "legendgroup": "民生活動中心 -> 捷運南京三民站(1號出口)",
         "line": {
          "color": "#19d3f3"
         },
         "lon": [
          121.56305,
          121.5636
         ],
         "mode": "lines",
         "name": "民生活動中心 -> 捷運南京三民站(1號出口)",
         "showlegend": true,
         "subplot": "mapbox",
         "type": "scattermapbox"
        },
        {
         "customdata": [
          [
           "碧山公園",
           "捷運內湖站(1號出口)",
           283,
           6.794871794871795
          ],
          [
           "碧山公園",
           "捷運內湖站(1號出口)",
           283,
           6.794871794871795
          ]
         ],
         "hovertemplate": "stop_pair=碧山公園 -> 捷運內湖站(1號出口)<br>lat=%{lat}<br>lon=%{lon}<br>on_stop=%{customdata[0]}<br>off_stop=%{customdata[1]}<br>txn_times_per_day=%{customdata[2]}<extra></extra>",
         "lat": [
          25.0878,
          25.08373
         ],
         "legendgroup": "碧山公園 -> 捷運內湖站(1號出口)",
         "line": {
          "color": "#FF6692"
         },
         "lon": [
          121.59227,
          121.59406
         ],
         "mode": "lines",
         "name": "碧山公園 -> 捷運內湖站(1號出口)",
         "showlegend": true,
         "subplot": "mapbox",
         "type": "scattermapbox"
        },
        {
         "customdata": [
          [
           "象山公園",
           "捷運象山站(2號出口)",
           282.5,
           6.7846153846153845
          ],
          [
           "象山公園",
           "捷運象山站(2號出口)",
           282.5,
           6.7846153846153845
          ]
         ],
         "hovertemplate": "stop_pair=象山公園 -> 捷運象山站(2號出口)<br>lat=%{lat}<br>lon=%{lon}<br>on_stop=%{customdata[0]}<br>off_stop=%{customdata[1]}<br>txn_times_per_day=%{customdata[2]}<extra></extra>",
         "lat": [
          25.02863,
          25.03222
         ],
         "legendgroup": "象山公園 -> 捷運象山站(2號出口)",
         "line": {
          "color": "#B6E880"
         },
         "lon": [
          121.56981,
          121.56974
         ],
         "mode": "lines",
         "name": "象山公園 -> 捷運象山站(2號出口)",
         "showlegend": true,
         "subplot": "mapbox",
         "type": "scattermapbox"
        },
        {
         "customdata": [
          [
           "捷運大安森林公園站(5號出口)",
           "建國和平路口西北側",
           277,
           6.671794871794872
          ],
          [
           "捷運大安森林公園站(5號出口)",
           "建國和平路口西北側",
           277,
           6.671794871794872
          ]
         ],
         "hovertemplate": "stop_pair=捷運大安森林公園站(5號出口) -> 建國和平路口西北側<br>lat=%{lat}<br>lon=%{lon}<br>on_stop=%{customdata[0]}<br>off_stop=%{customdata[1]}<br>txn_times_per_day=%{customdata[2]}<extra></extra>",
         "lat": [
          25.03336,
          25.02606
         ],
         "legendgroup": "捷運大安森林公園站(5號出口) -> 建國和平路口西北側",
         "line": {
          "color": "#FF97FF"
         },
         "lon": [
          121.5364,
          121.53738
         ],
         "mode": "lines",
         "name": "捷運大安森林公園站(5號出口) -> 建國和平路口西北側",
         "showlegend": true,
         "subplot": "mapbox",
         "type": "scattermapbox"
        },
        {
         "customdata": [
          [
           "捷運中山國中站",
           "榮星花園",
           273.5,
           6.6
          ],
          [
           "捷運中山國中站",
           "榮星花園",
           273.5,
           6.6
          ]
         ],
         "hovertemplate": "stop_pair=捷運中山國中站 -> 榮星花園<br>lat=%{lat}<br>lon=%{lon}<br>on_stop=%{customdata[0]}<br>off_stop=%{customdata[1]}<br>txn_times_per_day=%{customdata[2]}<extra></extra>",
         "lat": [
          25.06106,
          25.06424
         ],
         "legendgroup": "捷運中山國中站 -> 榮星花園",
         "line": {
          "color": "#FECB52"
         },
         "lon": [
          121.54406,
          121.54037
         ],
         "mode": "lines",
         "name": "捷運中山國中站 -> 榮星花園",
         "showlegend": true,
         "subplot": "mapbox",
         "type": "scattermapbox"
        }
       ],
       "layout": {
        "coloraxis": {
         "colorbar": {
          "ticktext": [
           "大稻埕碼頭 -> 大稻埕碼頭",
           "臺灣科技大學後門 -> 捷運公館站(2號出口)",
           "臺灣科技大學側門 -> 捷運公館站(2號出口)",
           "捷運公館站(2號出口) -> 臺灣科技大學後門",
           "捷運劍潭站(2號出口) -> 百齡國小",
           "百齡國小 -> 捷運劍潭站(2號出口)",
           "捷運公館站(2號出口) -> 臺灣科技大學側門",
           "捷運大安森林公園站(5號出口) -> 臺北市立圖書館(總館)",
           "健安新城 -> 捷運南京三民站(1號出口)",
           "捷運劍南路站(2號出口) -> 樂群二敬業四路口",
           "臺北市立圖書館(總館) -> 捷運大安森林公園站(5號出口)",
           "捷運北門站(3號出口) -> 永樂市場",
           "捷運芝山站(2號出口)_1 -> 蘭雅公園",
           "樂群二敬業四路口 -> 捷運劍南路站(2號出口)",
           "蘭雅公園 -> 捷運芝山站(2號出口)_1",
           "蘭興公園 -> 捷運芝山站(2號出口)_1",
           "捷運南京三民站(1號出口) -> 健安新城",
           "西本願寺廣場 -> 中華桂林路口",
           "捷運台北101/世貿站(2號出口) -> 臺北醫學大學",
           "中華桂林路口 -> 西本願寺廣場",
           "牯嶺公園 -> 捷運古亭站(2號出口)",
           "捷運古亭站(5號出口) -> 臺灣師範大學(圖書館)",
           "臺大男一舍前 -> 捷運公館站(2號出口)",
           "捷運東門站(5號出口) -> 金華公園",
           "捷運古亭站(2號出口) -> 牯嶺公園",
           "民生活動中心 -> 捷運南京三民站(1號出口)",
           "碧山公園 -> 捷運內湖站(1號出口)",
           "象山公園 -> 捷運象山站(2號出口)",
           "捷運大安森林公園站(5號出口) -> 建國和平路口西北側",
           "捷運中山國中站 -> 榮星花園"
          ],
          "tickvals": [
           0,
           1,
           2,
           3,
           4,
           5,
           6,
           7,
           8,
           9,
           10,
           11,
           12,
           13,
           14,
           15,
           16,
           17,
           18,
           19,
           20,
           21,
           22,
           23,
           24,
           25,
           26,
           27,
           28,
           29
          ],
          "title": {
           "text": "Stop Pair"
          }
         }
        },
        "legend": {
         "title": {
          "text": "stop_pair"
         },
         "tracegroupgap": 0
        },
        "mapbox": {
         "center": {
          "lat": 25.05,
          "lon": 121.55
         },
         "domain": {
          "x": [
           0,
           1
          ],
          "y": [
           0,
           1
          ]
         },
         "style": "carto-positron",
         "zoom": 11.25
        },
        "margin": {
         "t": 60
        },
        "template": {
         "data": {
          "bar": [
           {
            "error_x": {
             "color": "#2a3f5f"
            },
            "error_y": {
             "color": "#2a3f5f"
            },
            "marker": {
             "line": {
              "color": "#E5ECF6",
              "width": 0.5
             },
             "pattern": {
              "fillmode": "overlay",
              "size": 10,
              "solidity": 0.2
             }
            },
            "type": "bar"
           }
          ],
          "barpolar": [
           {
            "marker": {
             "line": {
              "color": "#E5ECF6",
              "width": 0.5
             },
             "pattern": {
              "fillmode": "overlay",
              "size": 10,
              "solidity": 0.2
             }
            },
            "type": "barpolar"
           }
          ],
          "carpet": [
           {
            "aaxis": {
             "endlinecolor": "#2a3f5f",
             "gridcolor": "white",
             "linecolor": "white",
             "minorgridcolor": "white",
             "startlinecolor": "#2a3f5f"
            },
            "baxis": {
             "endlinecolor": "#2a3f5f",
             "gridcolor": "white",
             "linecolor": "white",
             "minorgridcolor": "white",
             "startlinecolor": "#2a3f5f"
            },
            "type": "carpet"
           }
          ],
          "choropleth": [
           {
            "colorbar": {
             "outlinewidth": 0,
             "ticks": ""
            },
            "type": "choropleth"
           }
          ],
          "contour": [
           {
            "colorbar": {
             "outlinewidth": 0,
             "ticks": ""
            },
            "colorscale": [
             [
              0,
              "#0d0887"
             ],
             [
              0.1111111111111111,
              "#46039f"
             ],
             [
              0.2222222222222222,
              "#7201a8"
             ],
             [
              0.3333333333333333,
              "#9c179e"
             ],
             [
              0.4444444444444444,
              "#bd3786"
             ],
             [
              0.5555555555555556,
              "#d8576b"
             ],
             [
              0.6666666666666666,
              "#ed7953"
             ],
             [
              0.7777777777777778,
              "#fb9f3a"
             ],
             [
              0.8888888888888888,
              "#fdca26"
             ],
             [
              1,
              "#f0f921"
             ]
            ],
            "type": "contour"
           }
          ],
          "contourcarpet": [
           {
            "colorbar": {
             "outlinewidth": 0,
             "ticks": ""
            },
            "type": "contourcarpet"
           }
          ],
          "heatmap": [
           {
            "colorbar": {
             "outlinewidth": 0,
             "ticks": ""
            },
            "colorscale": [
             [
              0,
              "#0d0887"
             ],
             [
              0.1111111111111111,
              "#46039f"
             ],
             [
              0.2222222222222222,
              "#7201a8"
             ],
             [
              0.3333333333333333,
              "#9c179e"
             ],
             [
              0.4444444444444444,
              "#bd3786"
             ],
             [
              0.5555555555555556,
              "#d8576b"
             ],
             [
              0.6666666666666666,
              "#ed7953"
             ],
             [
              0.7777777777777778,
              "#fb9f3a"
             ],
             [
              0.8888888888888888,
              "#fdca26"
             ],
             [
              1,
              "#f0f921"
             ]
            ],
            "type": "heatmap"
           }
          ],
          "heatmapgl": [
           {
            "colorbar": {
             "outlinewidth": 0,
             "ticks": ""
            },
            "colorscale": [
             [
              0,
              "#0d0887"
             ],
             [
              0.1111111111111111,
              "#46039f"
             ],
             [
              0.2222222222222222,
              "#7201a8"
             ],
             [
              0.3333333333333333,
              "#9c179e"
             ],
             [
              0.4444444444444444,
              "#bd3786"
             ],
             [
              0.5555555555555556,
              "#d8576b"
             ],
             [
              0.6666666666666666,
              "#ed7953"
             ],
             [
              0.7777777777777778,
              "#fb9f3a"
             ],
             [
              0.8888888888888888,
              "#fdca26"
             ],
             [
              1,
              "#f0f921"
             ]
            ],
            "type": "heatmapgl"
           }
          ],
          "histogram": [
           {
            "marker": {
             "pattern": {
              "fillmode": "overlay",
              "size": 10,
              "solidity": 0.2
             }
            },
            "type": "histogram"
           }
          ],
          "histogram2d": [
           {
            "colorbar": {
             "outlinewidth": 0,
             "ticks": ""
            },
            "colorscale": [
             [
              0,
              "#0d0887"
             ],
             [
              0.1111111111111111,
              "#46039f"
             ],
             [
              0.2222222222222222,
              "#7201a8"
             ],
             [
              0.3333333333333333,
              "#9c179e"
             ],
             [
              0.4444444444444444,
              "#bd3786"
             ],
             [
              0.5555555555555556,
              "#d8576b"
             ],
             [
              0.6666666666666666,
              "#ed7953"
             ],
             [
              0.7777777777777778,
              "#fb9f3a"
             ],
             [
              0.8888888888888888,
              "#fdca26"
             ],
             [
              1,
              "#f0f921"
             ]
            ],
            "type": "histogram2d"
           }
          ],
          "histogram2dcontour": [
           {
            "colorbar": {
             "outlinewidth": 0,
             "ticks": ""
            },
            "colorscale": [
             [
              0,
              "#0d0887"
             ],
             [
              0.1111111111111111,
              "#46039f"
             ],
             [
              0.2222222222222222,
              "#7201a8"
             ],
             [
              0.3333333333333333,
              "#9c179e"
             ],
             [
              0.4444444444444444,
              "#bd3786"
             ],
             [
              0.5555555555555556,
              "#d8576b"
             ],
             [
              0.6666666666666666,
              "#ed7953"
             ],
             [
              0.7777777777777778,
              "#fb9f3a"
             ],
             [
              0.8888888888888888,
              "#fdca26"
             ],
             [
              1,
              "#f0f921"
             ]
            ],
            "type": "histogram2dcontour"
           }
          ],
          "mesh3d": [
           {
            "colorbar": {
             "outlinewidth": 0,
             "ticks": ""
            },
            "type": "mesh3d"
           }
          ],
          "parcoords": [
           {
            "line": {
             "colorbar": {
              "outlinewidth": 0,
              "ticks": ""
             }
            },
            "type": "parcoords"
           }
          ],
          "pie": [
           {
            "automargin": true,
            "type": "pie"
           }
          ],
          "scatter": [
           {
            "fillpattern": {
             "fillmode": "overlay",
             "size": 10,
             "solidity": 0.2
            },
            "type": "scatter"
           }
          ],
          "scatter3d": [
           {
            "line": {
             "colorbar": {
              "outlinewidth": 0,
              "ticks": ""
             }
            },
            "marker": {
             "colorbar": {
              "outlinewidth": 0,
              "ticks": ""
             }
            },
            "type": "scatter3d"
           }
          ],
          "scattercarpet": [
           {
            "marker": {
             "colorbar": {
              "outlinewidth": 0,
              "ticks": ""
             }
            },
            "type": "scattercarpet"
           }
          ],
          "scattergeo": [
           {
            "marker": {
             "colorbar": {
              "outlinewidth": 0,
              "ticks": ""
             }
            },
            "type": "scattergeo"
           }
          ],
          "scattergl": [
           {
            "marker": {
             "colorbar": {
              "outlinewidth": 0,
              "ticks": ""
             }
            },
            "type": "scattergl"
           }
          ],
          "scattermapbox": [
           {
            "marker": {
             "colorbar": {
              "outlinewidth": 0,
              "ticks": ""
             }
            },
            "type": "scattermapbox"
           }
          ],
          "scatterpolar": [
           {
            "marker": {
             "colorbar": {
              "outlinewidth": 0,
              "ticks": ""
             }
            },
            "type": "scatterpolar"
           }
          ],
          "scatterpolargl": [
           {
            "marker": {
             "colorbar": {
              "outlinewidth": 0,
              "ticks": ""
             }
            },
            "type": "scatterpolargl"
           }
          ],
          "scatterternary": [
           {
            "marker": {
             "colorbar": {
              "outlinewidth": 0,
              "ticks": ""
             }
            },
            "type": "scatterternary"
           }
          ],
          "surface": [
           {
            "colorbar": {
             "outlinewidth": 0,
             "ticks": ""
            },
            "colorscale": [
             [
              0,
              "#0d0887"
             ],
             [
              0.1111111111111111,
              "#46039f"
             ],
             [
              0.2222222222222222,
              "#7201a8"
             ],
             [
              0.3333333333333333,
              "#9c179e"
             ],
             [
              0.4444444444444444,
              "#bd3786"
             ],
             [
              0.5555555555555556,
              "#d8576b"
             ],
             [
              0.6666666666666666,
              "#ed7953"
             ],
             [
              0.7777777777777778,
              "#fb9f3a"
             ],
             [
              0.8888888888888888,
              "#fdca26"
             ],
             [
              1,
              "#f0f921"
             ]
            ],
            "type": "surface"
           }
          ],
          "table": [
           {
            "cells": {
             "fill": {
              "color": "#EBF0F8"
             },
             "line": {
              "color": "white"
             }
            },
            "header": {
             "fill": {
              "color": "#C8D4E3"
             },
             "line": {
              "color": "white"
             }
            },
            "type": "table"
           }
          ]
         },
         "layout": {
          "annotationdefaults": {
           "arrowcolor": "#2a3f5f",
           "arrowhead": 0,
           "arrowwidth": 1
          },
          "autotypenumbers": "strict",
          "coloraxis": {
           "colorbar": {
            "outlinewidth": 0,
            "ticks": ""
           }
          },
          "colorscale": {
           "diverging": [
            [
             0,
             "#8e0152"
            ],
            [
             0.1,
             "#c51b7d"
            ],
            [
             0.2,
             "#de77ae"
            ],
            [
             0.3,
             "#f1b6da"
            ],
            [
             0.4,
             "#fde0ef"
            ],
            [
             0.5,
             "#f7f7f7"
            ],
            [
             0.6,
             "#e6f5d0"
            ],
            [
             0.7,
             "#b8e186"
            ],
            [
             0.8,
             "#7fbc41"
            ],
            [
             0.9,
             "#4d9221"
            ],
            [
             1,
             "#276419"
            ]
           ],
           "sequential": [
            [
             0,
             "#0d0887"
            ],
            [
             0.1111111111111111,
             "#46039f"
            ],
            [
             0.2222222222222222,
             "#7201a8"
            ],
            [
             0.3333333333333333,
             "#9c179e"
            ],
            [
             0.4444444444444444,
             "#bd3786"
            ],
            [
             0.5555555555555556,
             "#d8576b"
            ],
            [
             0.6666666666666666,
             "#ed7953"
            ],
            [
             0.7777777777777778,
             "#fb9f3a"
            ],
            [
             0.8888888888888888,
             "#fdca26"
            ],
            [
             1,
             "#f0f921"
            ]
           ],
           "sequentialminus": [
            [
             0,
             "#0d0887"
            ],
            [
             0.1111111111111111,
             "#46039f"
            ],
            [
             0.2222222222222222,
             "#7201a8"
            ],
            [
             0.3333333333333333,
             "#9c179e"
            ],
            [
             0.4444444444444444,
             "#bd3786"
            ],
            [
             0.5555555555555556,
             "#d8576b"
            ],
            [
             0.6666666666666666,
             "#ed7953"
            ],
            [
             0.7777777777777778,
             "#fb9f3a"
            ],
            [
             0.8888888888888888,
             "#fdca26"
            ],
            [
             1,
             "#f0f921"
            ]
           ]
          },
          "colorway": [
           "#636efa",
           "#EF553B",
           "#00cc96",
           "#ab63fa",
           "#FFA15A",
           "#19d3f3",
           "#FF6692",
           "#B6E880",
           "#FF97FF",
           "#FECB52"
          ],
          "font": {
           "color": "#2a3f5f"
          },
          "geo": {
           "bgcolor": "white",
           "lakecolor": "white",
           "landcolor": "#E5ECF6",
           "showlakes": true,
           "showland": true,
           "subunitcolor": "white"
          },
          "hoverlabel": {
           "align": "left"
          },
          "hovermode": "closest",
          "mapbox": {
           "style": "light"
          },
          "paper_bgcolor": "white",
          "plot_bgcolor": "#E5ECF6",
          "polar": {
           "angularaxis": {
            "gridcolor": "white",
            "linecolor": "white",
            "ticks": ""
           },
           "bgcolor": "#E5ECF6",
           "radialaxis": {
            "gridcolor": "white",
            "linecolor": "white",
            "ticks": ""
           }
          },
          "scene": {
           "xaxis": {
            "backgroundcolor": "#E5ECF6",
            "gridcolor": "white",
            "gridwidth": 2,
            "linecolor": "white",
            "showbackground": true,
            "ticks": "",
            "zerolinecolor": "white"
           },
           "yaxis": {
            "backgroundcolor": "#E5ECF6",
            "gridcolor": "white",
            "gridwidth": 2,
            "linecolor": "white",
            "showbackground": true,
            "ticks": "",
            "zerolinecolor": "white"
           },
           "zaxis": {
            "backgroundcolor": "#E5ECF6",
            "gridcolor": "white",
            "gridwidth": 2,
            "linecolor": "white",
            "showbackground": true,
            "ticks": "",
            "zerolinecolor": "white"
           }
          },
          "shapedefaults": {
           "line": {
            "color": "#2a3f5f"
           }
          },
          "ternary": {
           "aaxis": {
            "gridcolor": "white",
            "linecolor": "white",
            "ticks": ""
           },
           "baxis": {
            "gridcolor": "white",
            "linecolor": "white",
            "ticks": ""
           },
           "bgcolor": "#E5ECF6",
           "caxis": {
            "gridcolor": "white",
            "linecolor": "white",
            "ticks": ""
           }
          },
          "title": {
           "x": 0.05
          },
          "xaxis": {
           "automargin": true,
           "gridcolor": "white",
           "linecolor": "white",
           "ticks": "",
           "title": {
            "standoff": 15
           },
           "zerolinecolor": "white",
           "zerolinewidth": 2
          },
          "yaxis": {
           "automargin": true,
           "gridcolor": "white",
           "linecolor": "white",
           "ticks": "",
           "title": {
            "standoff": 15
           },
           "zerolinecolor": "white",
           "zerolinewidth": 2
          }
         }
        }
       }
      }
     },
     "metadata": {},
     "output_type": "display_data"
    }
   ],
   "source": [
    "top_10_geo = df_weekend.nlargest(30, \"txn_times_per_day\")\n",
    "top_10_geo[\"stop_pair\"] = top_10_geo[\"on_stop\"] + \" -> \" + top_10_geo[\"off_stop\"]\n",
    "\n",
    "\n",
    "top_10_geo[\"coordinates\"] = top_10_geo[\"coordinates\"].apply(ast.literal_eval)\n",
    "top_10_geo[\"lon\"] = top_10_geo[\"coordinates\"].apply(lambda x: [coord[0] for coord in x])\n",
    "top_10_geo[\"lat\"] = top_10_geo[\"coordinates\"].apply(lambda x: [coord[1] for coord in x])\n",
    "\n",
    "# Flatten the GeoDataFrame for Plotly\n",
    "lines_df = pd.DataFrame(\n",
    "    {\n",
    "        \"on_stop\": top_10_geo[\"on_stop\"],\n",
    "        \"off_stop\": top_10_geo[\"off_stop\"],\n",
    "        \"txn_times_per_day\": top_10_geo[\"txn_times_per_day\"],\n",
    "        \"width\": top_10_geo[\"width\"],\n",
    "        \"stop_pair\": top_10_geo[\"stop_pair\"],  # Use stop_pair for coloring\n",
    "        \"lon\": top_10_geo[\"lon\"],\n",
    "        \"lat\": top_10_geo[\"lat\"],\n",
    "    }\n",
    ")\n",
    "\n",
    "# Visualize with Plotly Express\n",
    "fig = px.line_mapbox(\n",
    "    lines_df.explode([\"lon\", \"lat\"]),\n",
    "    lat=\"lat\",\n",
    "    lon=\"lon\",\n",
    "    color=\"stop_pair\",\n",
    "    line_group=\"stop_pair\",\n",
    "    hover_data={\n",
    "        \"on_stop\": True,\n",
    "        \"off_stop\": True,\n",
    "        \"txn_times_per_day\": True,\n",
    "        \"width\": False,\n",
    "    },\n",
    ")\n",
    "\n",
    "# Update map style\n",
    "fig.update_layout(\n",
    "    mapbox_style=\"carto-positron\",\n",
    "    mapbox_zoom=11.25,\n",
    "    mapbox_center={\"lat\": 25.05, \"lon\": 121.55},\n",
    "    coloraxis_colorbar=dict(\n",
    "        title=\"Stop Pair\",\n",
    "        tickvals=list(range(len(lines_df[\"stop_pair\"].unique()))),\n",
    "        ticktext=lines_df[\"stop_pair\"].unique(),\n",
    "    ),\n",
    ")\n",
    "\n",
    "fig.show()\n"
   ]
  },
  {
   "cell_type": "code",
   "execution_count": 12,
   "metadata": {},
   "outputs": [
    {
     "data": {
      "application/vnd.plotly.v1+json": {
       "config": {
        "plotlyServerURL": "https://plot.ly"
       },
       "data": [
        {
         "customdata": [
          [
           "臺灣科技大學側門",
           "捷運公館站(2號出口)",
           665.6,
           15
          ],
          [
           "臺灣科技大學側門",
           "捷運公館站(2號出口)",
           665.6,
           15
          ]
         ],
         "hovertemplate": "stop_pair=臺灣科技大學側門 -> 捷運公館站(2號出口)<br>lat=%{lat}<br>lon=%{lon}<br>on_stop=%{customdata[0]}<br>off_stop=%{customdata[1]}<br>txn_times_per_day=%{customdata[2]}<extra></extra>",
         "lat": [
          25.01295,
          25.01491
         ],
         "legendgroup": "臺灣科技大學側門 -> 捷運公館站(2號出口)",
         "line": {
          "color": "#636efa"
         },
         "lon": [
          121.53973,
          121.53438
         ],
         "mode": "lines",
         "name": "臺灣科技大學側門 -> 捷運公館站(2號出口)",
         "showlegend": true,
         "subplot": "mapbox",
         "type": "scattermapbox"
        },
        {
         "customdata": [
          [
           "臺灣科技大學後門",
           "捷運公館站(2號出口)",
           591.6,
           13.443041779380824
          ],
          [
           "臺灣科技大學後門",
           "捷運公館站(2號出口)",
           591.6,
           13.443041779380824
          ]
         ],
         "hovertemplate": "stop_pair=臺灣科技大學後門 -> 捷運公館站(2號出口)<br>lat=%{lat}<br>lon=%{lon}<br>on_stop=%{customdata[0]}<br>off_stop=%{customdata[1]}<br>txn_times_per_day=%{customdata[2]}<extra></extra>",
         "lat": [
          25.01182,
          25.01491
         ],
         "legendgroup": "臺灣科技大學後門 -> 捷運公館站(2號出口)",
         "line": {
          "color": "#EF553B"
         },
         "lon": [
          121.54165,
          121.53438
         ],
         "mode": "lines",
         "name": "臺灣科技大學後門 -> 捷運公館站(2號出口)",
         "showlegend": true,
         "subplot": "mapbox",
         "type": "scattermapbox"
        },
        {
         "customdata": [
          [
           "捷運象山站(2號出口)",
           "象山公園",
           585.8,
           13.321009918845808
          ],
          [
           "捷運象山站(2號出口)",
           "象山公園",
           585.8,
           13.321009918845808
          ]
         ],
         "hovertemplate": "stop_pair=捷運象山站(2號出口) -> 象山公園<br>lat=%{lat}<br>lon=%{lon}<br>on_stop=%{customdata[0]}<br>off_stop=%{customdata[1]}<br>txn_times_per_day=%{customdata[2]}<extra></extra>",
         "lat": [
          25.03222,
          25.02863
         ],
         "legendgroup": "捷運象山站(2號出口) -> 象山公園",
         "line": {
          "color": "#00cc96"
         },
         "lon": [
          121.56974,
          121.56981
         ],
         "mode": "lines",
         "name": "捷運象山站(2號出口) -> 象山公園",
         "showlegend": true,
         "subplot": "mapbox",
         "type": "scattermapbox"
        },
        {
         "customdata": [
          [
           "捷運公館站(2號出口)",
           "臺灣科技大學側門",
           582.2,
           13.24526600541028
          ],
          [
           "捷運公館站(2號出口)",
           "臺灣科技大學側門",
           582.2,
           13.24526600541028
          ]
         ],
         "hovertemplate": "stop_pair=捷運公館站(2號出口) -> 臺灣科技大學側門<br>lat=%{lat}<br>lon=%{lon}<br>on_stop=%{customdata[0]}<br>off_stop=%{customdata[1]}<br>txn_times_per_day=%{customdata[2]}<extra></extra>",
         "lat": [
          25.01491,
          25.01295
         ],
         "legendgroup": "捷運公館站(2號出口) -> 臺灣科技大學側門",
         "line": {
          "color": "#ab63fa"
         },
         "lon": [
          121.53438,
          121.53973
         ],
         "mode": "lines",
         "name": "捷運公館站(2號出口) -> 臺灣科技大學側門",
         "showlegend": true,
         "subplot": "mapbox",
         "type": "scattermapbox"
        },
        {
         "customdata": [
          [
           "百齡國小",
           "捷運劍潭站(2號出口)",
           523.6,
           12.012323414487524
          ],
          [
           "百齡國小",
           "捷運劍潭站(2號出口)",
           523.6,
           12.012323414487524
          ]
         ],
         "hovertemplate": "stop_pair=百齡國小 -> 捷運劍潭站(2號出口)<br>lat=%{lat}<br>lon=%{lon}<br>on_stop=%{customdata[0]}<br>off_stop=%{customdata[1]}<br>txn_times_per_day=%{customdata[2]}<extra></extra>",
         "lat": [
          25.08521,
          25.08288
         ],
         "legendgroup": "百齡國小 -> 捷運劍潭站(2號出口)",
         "line": {
          "color": "#FFA15A"
         },
         "lon": [
          121.51918,
          121.52455
         ],
         "mode": "lines",
         "name": "百齡國小 -> 捷運劍潭站(2號出口)",
         "showlegend": true,
         "subplot": "mapbox",
         "type": "scattermapbox"
        },
        {
         "customdata": [
          [
           "捷運劍潭站(2號出口)",
           "百齡國小",
           508.2,
           11.688307784791103
          ],
          [
           "捷運劍潭站(2號出口)",
           "百齡國小",
           508.2,
           11.688307784791103
          ]
         ],
         "hovertemplate": "stop_pair=捷運劍潭站(2號出口) -> 百齡國小<br>lat=%{lat}<br>lon=%{lon}<br>on_stop=%{customdata[0]}<br>off_stop=%{customdata[1]}<br>txn_times_per_day=%{customdata[2]}<extra></extra>",
         "lat": [
          25.08288,
          25.08521
         ],
         "legendgroup": "捷運劍潭站(2號出口) -> 百齡國小",
         "line": {
          "color": "#19d3f3"
         },
         "lon": [
          121.52455,
          121.51918
         ],
         "mode": "lines",
         "name": "捷運劍潭站(2號出口) -> 百齡國小",
         "showlegend": true,
         "subplot": "mapbox",
         "type": "scattermapbox"
        },
        {
         "customdata": [
          [
           "象山公園",
           "捷運象山站(2號出口)",
           498.8,
           11.49053201082056
          ],
          [
           "象山公園",
           "捷運象山站(2號出口)",
           498.8,
           11.49053201082056
          ]
         ],
         "hovertemplate": "stop_pair=象山公園 -> 捷運象山站(2號出口)<br>lat=%{lat}<br>lon=%{lon}<br>on_stop=%{customdata[0]}<br>off_stop=%{customdata[1]}<br>txn_times_per_day=%{customdata[2]}<extra></extra>",
         "lat": [
          25.02863,
          25.03222
         ],
         "legendgroup": "象山公園 -> 捷運象山站(2號出口)",
         "line": {
          "color": "#FF6692"
         },
         "lon": [
          121.56981,
          121.56974
         ],
         "mode": "lines",
         "name": "象山公園 -> 捷運象山站(2號出口)",
         "showlegend": true,
         "subplot": "mapbox",
         "type": "scattermapbox"
        },
        {
         "customdata": [
          [
           "捷運公館站(2號出口)",
           "臺灣科技大學後門",
           496.2,
           11.435828073339344
          ],
          [
           "捷運公館站(2號出口)",
           "臺灣科技大學後門",
           496.2,
           11.435828073339344
          ]
         ],
         "hovertemplate": "stop_pair=捷運公館站(2號出口) -> 臺灣科技大學後門<br>lat=%{lat}<br>lon=%{lon}<br>on_stop=%{customdata[0]}<br>off_stop=%{customdata[1]}<br>txn_times_per_day=%{customdata[2]}<extra></extra>",
         "lat": [
          25.01491,
          25.01182
         ],
         "legendgroup": "捷運公館站(2號出口) -> 臺灣科技大學後門",
         "line": {
          "color": "#B6E880"
         },
         "lon": [
          121.53438,
          121.54165
         ],
         "mode": "lines",
         "name": "捷運公館站(2號出口) -> 臺灣科技大學後門",
         "showlegend": true,
         "subplot": "mapbox",
         "type": "scattermapbox"
        },
        {
         "customdata": [
          [
           "捷運劍南路站(2號出口)",
           "樂群二敬業四路口",
           490.8,
           11.322212203186051
          ],
          [
           "捷運劍南路站(2號出口)",
           "樂群二敬業四路口",
           490.8,
           11.322212203186051
          ]
         ],
         "hovertemplate": "stop_pair=捷運劍南路站(2號出口) -> 樂群二敬業四路口<br>lat=%{lat}<br>lon=%{lon}<br>on_stop=%{customdata[0]}<br>off_stop=%{customdata[1]}<br>txn_times_per_day=%{customdata[2]}<extra></extra>",
         "lat": [
          25.08401,
          25.07976
         ],
         "legendgroup": "捷運劍南路站(2號出口) -> 樂群二敬業四路口",
         "line": {
          "color": "#FF97FF"
         },
         "lon": [
          121.55535,
          121.55813
         ],
         "mode": "lines",
         "name": "捷運劍南路站(2號出口) -> 樂群二敬業四路口",
         "showlegend": true,
         "subplot": "mapbox",
         "type": "scattermapbox"
        },
        {
         "customdata": [
          [
           "樂群二敬業四路口",
           "捷運劍南路站(2號出口)",
           458.2,
           10.636308987075443
          ],
          [
           "樂群二敬業四路口",
           "捷運劍南路站(2號出口)",
           458.2,
           10.636308987075443
          ]
         ],
         "hovertemplate": "stop_pair=樂群二敬業四路口 -> 捷運劍南路站(2號出口)<br>lat=%{lat}<br>lon=%{lon}<br>on_stop=%{customdata[0]}<br>off_stop=%{customdata[1]}<br>txn_times_per_day=%{customdata[2]}<extra></extra>",
         "lat": [
          25.07976,
          25.08401
         ],
         "legendgroup": "樂群二敬業四路口 -> 捷運劍南路站(2號出口)",
         "line": {
          "color": "#FECB52"
         },
         "lon": [
          121.55813,
          121.55535
         ],
         "mode": "lines",
         "name": "樂群二敬業四路口 -> 捷運劍南路站(2號出口)",
         "showlegend": true,
         "subplot": "mapbox",
         "type": "scattermapbox"
        },
        {
         "customdata": [
          [
           "健安新城",
           "捷運南京三民站(1號出口)",
           424.4,
           9.925157799819658
          ],
          [
           "健安新城",
           "捷運南京三民站(1號出口)",
           424.4,
           9.925157799819658
          ]
         ],
         "hovertemplate": "stop_pair=健安新城 -> 捷運南京三民站(1號出口)<br>lat=%{lat}<br>lon=%{lon}<br>on_stop=%{customdata[0]}<br>off_stop=%{customdata[1]}<br>txn_times_per_day=%{customdata[2]}<extra></extra>",
         "lat": [
          25.05606,
          25.05155
         ],
         "legendgroup": "健安新城 -> 捷運南京三民站(1號出口)",
         "line": {
          "color": "#636efa"
         },
         "lon": [
          121.56345,
          121.5636
         ],
         "mode": "lines",
         "name": "健安新城 -> 捷運南京三民站(1號出口)",
         "showlegend": true,
         "subplot": "mapbox",
         "type": "scattermapbox"
        },
        {
         "customdata": [
          [
           "捷運台北101/世貿站(2號出口)",
           "臺北醫學大學",
           416,
           9.748422001803426
          ],
          [
           "捷運台北101/世貿站(2號出口)",
           "臺北醫學大學",
           416,
           9.748422001803426
          ]
         ],
         "hovertemplate": "stop_pair=捷運台北101/世貿站(2號出口) -> 臺北醫學大學<br>lat=%{lat}<br>lon=%{lon}<br>on_stop=%{customdata[0]}<br>off_stop=%{customdata[1]}<br>txn_times_per_day=%{customdata[2]}<extra></extra>",
         "lat": [
          25.0327,
          25.02668
         ],
         "legendgroup": "捷運台北101/世貿站(2號出口) -> 臺北醫學大學",
         "line": {
          "color": "#EF553B"
         },
         "lon": [
          121.56157,
          121.56175
         ],
         "mode": "lines",
         "name": "捷運台北101/世貿站(2號出口) -> 臺北醫學大學",
         "showlegend": true,
         "subplot": "mapbox",
         "type": "scattermapbox"
        },
        {
         "customdata": [
          [
           "臺北市立圖書館(總館)",
           "捷運大安森林公園站(5號出口)",
           412.6,
           9.67688608355876
          ],
          [
           "臺北市立圖書館(總館)",
           "捷運大安森林公園站(5號出口)",
           412.6,
           9.67688608355876
          ]
         ],
         "hovertemplate": "stop_pair=臺北市立圖書館(總館) -> 捷運大安森林公園站(5號出口)<br>lat=%{lat}<br>lon=%{lon}<br>on_stop=%{customdata[0]}<br>off_stop=%{customdata[1]}<br>txn_times_per_day=%{customdata[2]}<extra></extra>",
         "lat": [
          25.02895,
          25.03336
         ],
         "legendgroup": "臺北市立圖書館(總館) -> 捷運大安森林公園站(5號出口)",
         "line": {
          "color": "#00cc96"
         },
         "lon": [
          121.5379,
          121.5364
         ],
         "mode": "lines",
         "name": "臺北市立圖書館(總館) -> 捷運大安森林公園站(5號出口)",
         "showlegend": true,
         "subplot": "mapbox",
         "type": "scattermapbox"
        },
        {
         "customdata": [
          [
           "捷運古亭站(5號出口)",
           "臺灣師範大學(圖書館)",
           410.8,
           9.639014126840998
          ],
          [
           "捷運古亭站(5號出口)",
           "臺灣師範大學(圖書館)",
           410.8,
           9.639014126840998
          ]
         ],
         "hovertemplate": "stop_pair=捷運古亭站(5號出口) -> 臺灣師範大學(圖書館)<br>lat=%{lat}<br>lon=%{lon}<br>on_stop=%{customdata[0]}<br>off_stop=%{customdata[1]}<br>txn_times_per_day=%{customdata[2]}<extra></extra>",
         "lat": [
          25.02715,
          25.0266
         ],
         "legendgroup": "捷運古亭站(5號出口) -> 臺灣師範大學(圖書館)",
         "line": {
          "color": "#ab63fa"
         },
         "lon": [
          121.52293,
          121.52973
         ],
         "mode": "lines",
         "name": "捷運古亭站(5號出口) -> 臺灣師範大學(圖書館)",
         "showlegend": true,
         "subplot": "mapbox",
         "type": "scattermapbox"
        },
        {
         "customdata": [
          [
           "捷運大安森林公園站(5號出口)",
           "臺北市立圖書館(總館)",
           406.8,
           9.554854223023746
          ],
          [
           "捷運大安森林公園站(5號出口)",
           "臺北市立圖書館(總館)",
           406.8,
           9.554854223023746
          ]
         ],
         "hovertemplate": "stop_pair=捷運大安森林公園站(5號出口) -> 臺北市立圖書館(總館)<br>lat=%{lat}<br>lon=%{lon}<br>on_stop=%{customdata[0]}<br>off_stop=%{customdata[1]}<br>txn_times_per_day=%{customdata[2]}<extra></extra>",
         "lat": [
          25.03336,
          25.02895
         ],
         "legendgroup": "捷運大安森林公園站(5號出口) -> 臺北市立圖書館(總館)",
         "line": {
          "color": "#FFA15A"
         },
         "lon": [
          121.5364,
          121.5379
         ],
         "mode": "lines",
         "name": "捷運大安森林公園站(5號出口) -> 臺北市立圖書館(總館)",
         "showlegend": true,
         "subplot": "mapbox",
         "type": "scattermapbox"
        },
        {
         "customdata": [
          [
           "臺灣師範大學(圖書館)",
           "捷運古亭站(5號出口)",
           406,
           9.538022242260292
          ],
          [
           "臺灣師範大學(圖書館)",
           "捷運古亭站(5號出口)",
           406,
           9.538022242260292
          ]
         ],
         "hovertemplate": "stop_pair=臺灣師範大學(圖書館) -> 捷運古亭站(5號出口)<br>lat=%{lat}<br>lon=%{lon}<br>on_stop=%{customdata[0]}<br>off_stop=%{customdata[1]}<br>txn_times_per_day=%{customdata[2]}<extra></extra>",
         "lat": [
          25.0266,
          25.02715
         ],
         "legendgroup": "臺灣師範大學(圖書館) -> 捷運古亭站(5號出口)",
         "line": {
          "color": "#19d3f3"
         },
         "lon": [
          121.52973,
          121.52293
         ],
         "mode": "lines",
         "name": "臺灣師範大學(圖書館) -> 捷運古亭站(5號出口)",
         "showlegend": true,
         "subplot": "mapbox",
         "type": "scattermapbox"
        },
        {
         "customdata": [
          [
           "捷運南京三民站(1號出口)",
           "健安新城",
           377.4,
           8.936278929966939
          ],
          [
           "捷運南京三民站(1號出口)",
           "健安新城",
           377.4,
           8.936278929966939
          ]
         ],
         "hovertemplate": "stop_pair=捷運南京三民站(1號出口) -> 健安新城<br>lat=%{lat}<br>lon=%{lon}<br>on_stop=%{customdata[0]}<br>off_stop=%{customdata[1]}<br>txn_times_per_day=%{customdata[2]}<extra></extra>",
         "lat": [
          25.05155,
          25.05606
         ],
         "legendgroup": "捷運南京三民站(1號出口) -> 健安新城",
         "line": {
          "color": "#FF6692"
         },
         "lon": [
          121.5636,
          121.56345
         ],
         "mode": "lines",
         "name": "捷運南京三民站(1號出口) -> 健安新城",
         "showlegend": true,
         "subplot": "mapbox",
         "type": "scattermapbox"
        },
        {
         "customdata": [
          [
           "捷運劍南路站(2號出口)",
           "文湖國小",
           364.8,
           8.671175232942591
          ],
          [
           "捷運劍南路站(2號出口)",
           "文湖國小",
           364.8,
           8.671175232942591
          ]
         ],
         "hovertemplate": "stop_pair=捷運劍南路站(2號出口) -> 文湖國小<br>lat=%{lat}<br>lon=%{lon}<br>on_stop=%{customdata[0]}<br>off_stop=%{customdata[1]}<br>txn_times_per_day=%{customdata[2]}<extra></extra>",
         "lat": [
          25.08401,
          25.08637
         ],
         "legendgroup": "捷運劍南路站(2號出口) -> 文湖國小",
         "line": {
          "color": "#B6E880"
         },
         "lon": [
          121.55535,
          121.56088
         ],
         "mode": "lines",
         "name": "捷運劍南路站(2號出口) -> 文湖國小",
         "showlegend": true,
         "subplot": "mapbox",
         "type": "scattermapbox"
        },
        {
         "customdata": [
          [
           "建國和平路口西北側",
           "捷運大安森林公園站(5號出口)",
           362.6,
           8.624887285843101
          ],
          [
           "建國和平路口西北側",
           "捷運大安森林公園站(5號出口)",
           362.6,
           8.624887285843101
          ]
         ],
         "hovertemplate": "stop_pair=建國和平路口西北側 -> 捷運大安森林公園站(5號出口)<br>lat=%{lat}<br>lon=%{lon}<br>on_stop=%{customdata[0]}<br>off_stop=%{customdata[1]}<br>txn_times_per_day=%{customdata[2]}<extra></extra>",
         "lat": [
          25.02606,
          25.03336
         ],
         "legendgroup": "建國和平路口西北側 -> 捷運大安森林公園站(5號出口)",
         "line": {
          "color": "#FF97FF"
         },
         "lon": [
          121.53738,
          121.5364
         ],
         "mode": "lines",
         "name": "建國和平路口西北側 -> 捷運大安森林公園站(5號出口)",
         "showlegend": true,
         "subplot": "mapbox",
         "type": "scattermapbox"
        },
        {
         "customdata": [
          [
           "捷運芝山站(2號出口)_1",
           "蘭雅公園",
           350.6,
           8.372407574391342
          ],
          [
           "捷運芝山站(2號出口)_1",
           "蘭雅公園",
           350.6,
           8.372407574391342
          ]
         ],
         "hovertemplate": "stop_pair=捷運芝山站(2號出口)_1 -> 蘭雅公園<br>lat=%{lat}<br>lon=%{lon}<br>on_stop=%{customdata[0]}<br>off_stop=%{customdata[1]}<br>txn_times_per_day=%{customdata[2]}<extra></extra>",
         "lat": [
          25.10336,
          25.10991
         ],
         "legendgroup": "捷運芝山站(2號出口)_1 -> 蘭雅公園",
         "line": {
          "color": "#FECB52"
         },
         "lon": [
          121.52263,
          121.53039
         ],
         "mode": "lines",
         "name": "捷運芝山站(2號出口)_1 -> 蘭雅公園",
         "showlegend": true,
         "subplot": "mapbox",
         "type": "scattermapbox"
        },
        {
         "customdata": [
          [
           "臺北孔廟",
           "捷運圓山站(2號出口)",
           349.4,
           8.347159603246167
          ],
          [
           "臺北孔廟",
           "捷運圓山站(2號出口)",
           349.4,
           8.347159603246167
          ]
         ],
         "hovertemplate": "stop_pair=臺北孔廟 -> 捷運圓山站(2號出口)<br>lat=%{lat}<br>lon=%{lon}<br>on_stop=%{customdata[0]}<br>off_stop=%{customdata[1]}<br>txn_times_per_day=%{customdata[2]}<extra></extra>",
         "lat": [
          25.07378,
          25.07182
         ],
         "legendgroup": "臺北孔廟 -> 捷運圓山站(2號出口)",
         "line": {
          "color": "#636efa"
         },
         "lon": [
          121.51583,
          121.51929
         ],
         "mode": "lines",
         "name": "臺北孔廟 -> 捷運圓山站(2號出口)",
         "showlegend": true,
         "subplot": "mapbox",
         "type": "scattermapbox"
        },
        {
         "customdata": [
          [
           "蘭雅公園",
           "捷運芝山站(2號出口)_1",
           338.8,
           8.124135858130447
          ],
          [
           "蘭雅公園",
           "捷運芝山站(2號出口)_1",
           338.8,
           8.124135858130447
          ]
         ],
         "hovertemplate": "stop_pair=蘭雅公園 -> 捷運芝山站(2號出口)_1<br>lat=%{lat}<br>lon=%{lon}<br>on_stop=%{customdata[0]}<br>off_stop=%{customdata[1]}<br>txn_times_per_day=%{customdata[2]}<extra></extra>",
         "lat": [
          25.10991,
          25.10336
         ],
         "legendgroup": "蘭雅公園 -> 捷運芝山站(2號出口)_1",
         "line": {
          "color": "#EF553B"
         },
         "lon": [
          121.53039,
          121.52263
         ],
         "mode": "lines",
         "name": "蘭雅公園 -> 捷運芝山站(2號出口)_1",
         "showlegend": true,
         "subplot": "mapbox",
         "type": "scattermapbox"
        },
        {
         "customdata": [
          [
           "大業大同街口",
           "捷運北投站(1號出口)",
           334.2,
           8.027351968740607
          ],
          [
           "大業大同街口",
           "捷運北投站(1號出口)",
           334.2,
           8.027351968740607
          ]
         ],
         "hovertemplate": "stop_pair=大業大同街口 -> 捷運北投站(1號出口)<br>lat=%{lat}<br>lon=%{lon}<br>on_stop=%{customdata[0]}<br>off_stop=%{customdata[1]}<br>txn_times_per_day=%{customdata[2]}<extra></extra>",
         "lat": [
          25.13691,
          25.13258
         ],
         "legendgroup": "大業大同街口 -> 捷運北投站(1號出口)",
         "line": {
          "color": "#00cc96"
         },
         "lon": [
          121.49987,
          121.49862
         ],
         "mode": "lines",
         "name": "大業大同街口 -> 捷運北投站(1號出口)",
         "showlegend": true,
         "subplot": "mapbox",
         "type": "scattermapbox"
        },
        {
         "customdata": [
          [
           "牯嶺公園",
           "捷運古亭站(2號出口)",
           333.4,
           8.010519987977156
          ],
          [
           "牯嶺公園",
           "捷運古亭站(2號出口)",
           333.4,
           8.010519987977156
          ]
         ],
         "hovertemplate": "stop_pair=牯嶺公園 -> 捷運古亭站(2號出口)<br>lat=%{lat}<br>lon=%{lon}<br>on_stop=%{customdata[0]}<br>off_stop=%{customdata[1]}<br>txn_times_per_day=%{customdata[2]}<extra></extra>",
         "lat": [
          25.02338,
          25.0255
         ],
         "legendgroup": "牯嶺公園 -> 捷運古亭站(2號出口)",
         "line": {
          "color": "#ab63fa"
         },
         "lon": [
          121.51889,
          121.52346
         ],
         "mode": "lines",
         "name": "牯嶺公園 -> 捷運古亭站(2號出口)",
         "showlegend": true,
         "subplot": "mapbox",
         "type": "scattermapbox"
        },
        {
         "customdata": [
          [
           "碧山公園",
           "捷運內湖站(1號出口)",
           324,
           7.812744214006613
          ],
          [
           "碧山公園",
           "捷運內湖站(1號出口)",
           324,
           7.812744214006613
          ]
         ],
         "hovertemplate": "stop_pair=碧山公園 -> 捷運內湖站(1號出口)<br>lat=%{lat}<br>lon=%{lon}<br>on_stop=%{customdata[0]}<br>off_stop=%{customdata[1]}<br>txn_times_per_day=%{customdata[2]}<extra></extra>",
         "lat": [
          25.0878,
          25.08373
         ],
         "legendgroup": "碧山公園 -> 捷運內湖站(1號出口)",
         "line": {
          "color": "#FFA15A"
         },
         "lon": [
          121.59227,
          121.59406
         ],
         "mode": "lines",
         "name": "碧山公園 -> 捷運內湖站(1號出口)",
         "showlegend": true,
         "subplot": "mapbox",
         "type": "scattermapbox"
        },
        {
         "customdata": [
          [
           "捷運後山埤站(2號出口)",
           "福德公園",
           317.8,
           7.682296363089871
          ],
          [
           "捷運後山埤站(2號出口)",
           "福德公園",
           317.8,
           7.682296363089871
          ]
         ],
         "hovertemplate": "stop_pair=捷運後山埤站(2號出口) -> 福德公園<br>lat=%{lat}<br>lon=%{lon}<br>on_stop=%{customdata[0]}<br>off_stop=%{customdata[1]}<br>txn_times_per_day=%{customdata[2]}<extra></extra>",
         "lat": [
          25.04395,
          25.03841
         ],
         "legendgroup": "捷運後山埤站(2號出口) -> 福德公園",
         "line": {
          "color": "#19d3f3"
         },
         "lon": [
          121.58184,
          121.58355
         ],
         "mode": "lines",
         "name": "捷運後山埤站(2號出口) -> 福德公園",
         "showlegend": true,
         "subplot": "mapbox",
         "type": "scattermapbox"
        },
        {
         "customdata": [
          [
           "捷運大安森林公園站(5號出口)",
           "建國和平路口西北側",
           316.4,
           7.652840396753832
          ],
          [
           "捷運大安森林公園站(5號出口)",
           "建國和平路口西北側",
           316.4,
           7.652840396753832
          ]
         ],
         "hovertemplate": "stop_pair=捷運大安森林公園站(5號出口) -> 建國和平路口西北側<br>lat=%{lat}<br>lon=%{lon}<br>on_stop=%{customdata[0]}<br>off_stop=%{customdata[1]}<br>txn_times_per_day=%{customdata[2]}<extra></extra>",
         "lat": [
          25.03336,
          25.02606
         ],
         "legendgroup": "捷運大安森林公園站(5號出口) -> 建國和平路口西北側",
         "line": {
          "color": "#FF6692"
         },
         "lon": [
          121.5364,
          121.53738
         ],
         "mode": "lines",
         "name": "捷運大安森林公園站(5號出口) -> 建國和平路口西北側",
         "showlegend": true,
         "subplot": "mapbox",
         "type": "scattermapbox"
        },
        {
         "customdata": [
          [
           "蘭興公園",
           "捷運芝山站(2號出口)_1",
           314.8,
           7.619176435226931
          ],
          [
           "蘭興公園",
           "捷運芝山站(2號出口)_1",
           314.8,
           7.619176435226931
          ]
         ],
         "hovertemplate": "stop_pair=蘭興公園 -> 捷運芝山站(2號出口)_1<br>lat=%{lat}<br>lon=%{lon}<br>on_stop=%{customdata[0]}<br>off_stop=%{customdata[1]}<br>txn_times_per_day=%{customdata[2]}<extra></extra>",
         "lat": [
          25.11184,
          25.10336
         ],
         "legendgroup": "蘭興公園 -> 捷運芝山站(2號出口)_1",
         "line": {
          "color": "#B6E880"
         },
         "lon": [
          121.52589,
          121.52263
         ],
         "mode": "lines",
         "name": "蘭興公園 -> 捷運芝山站(2號出口)_1",
         "showlegend": true,
         "subplot": "mapbox",
         "type": "scattermapbox"
        },
        {
         "customdata": [
          [
           "捷運永春站(2號出口)",
           "安強公園",
           314.2,
           7.606552449654343
          ],
          [
           "捷運永春站(2號出口)",
           "安強公園",
           314.2,
           7.606552449654343
          ]
         ],
         "hovertemplate": "stop_pair=捷運永春站(2號出口) -> 安強公園<br>lat=%{lat}<br>lon=%{lon}<br>on_stop=%{customdata[0]}<br>off_stop=%{customdata[1]}<br>txn_times_per_day=%{customdata[2]}<extra></extra>",
         "lat": [
          25.0405,
          25.03693
         ],
         "legendgroup": "捷運永春站(2號出口) -> 安強公園",
         "line": {
          "color": "#FF97FF"
         },
         "lon": [
          121.57538,
          121.57535
         ],
         "mode": "lines",
         "name": "捷運永春站(2號出口) -> 安強公園",
         "showlegend": true,
         "subplot": "mapbox",
         "type": "scattermapbox"
        },
        {
         "customdata": [
          [
           "民生活動中心",
           "捷運南京三民站(1號出口)",
           310,
           7.518184550646228
          ],
          [
           "民生活動中心",
           "捷運南京三民站(1號出口)",
           310,
           7.518184550646228
          ]
         ],
         "hovertemplate": "stop_pair=民生活動中心 -> 捷運南京三民站(1號出口)<br>lat=%{lat}<br>lon=%{lon}<br>on_stop=%{customdata[0]}<br>off_stop=%{customdata[1]}<br>txn_times_per_day=%{customdata[2]}<extra></extra>",
         "lat": [
          25.05907,
          25.05155
         ],
         "legendgroup": "民生活動中心 -> 捷運南京三民站(1號出口)",
         "line": {
          "color": "#FECB52"
         },
         "lon": [
          121.56305,
          121.5636
         ],
         "mode": "lines",
         "name": "民生活動中心 -> 捷運南京三民站(1號出口)",
         "showlegend": true,
         "subplot": "mapbox",
         "type": "scattermapbox"
        }
       ],
       "layout": {
        "coloraxis": {
         "colorbar": {
          "ticktext": [
           "臺灣科技大學側門 -> 捷運公館站(2號出口)",
           "臺灣科技大學後門 -> 捷運公館站(2號出口)",
           "捷運象山站(2號出口) -> 象山公園",
           "捷運公館站(2號出口) -> 臺灣科技大學側門",
           "百齡國小 -> 捷運劍潭站(2號出口)",
           "捷運劍潭站(2號出口) -> 百齡國小",
           "象山公園 -> 捷運象山站(2號出口)",
           "捷運公館站(2號出口) -> 臺灣科技大學後門",
           "捷運劍南路站(2號出口) -> 樂群二敬業四路口",
           "樂群二敬業四路口 -> 捷運劍南路站(2號出口)",
           "健安新城 -> 捷運南京三民站(1號出口)",
           "捷運台北101/世貿站(2號出口) -> 臺北醫學大學",
           "臺北市立圖書館(總館) -> 捷運大安森林公園站(5號出口)",
           "捷運古亭站(5號出口) -> 臺灣師範大學(圖書館)",
           "捷運大安森林公園站(5號出口) -> 臺北市立圖書館(總館)",
           "臺灣師範大學(圖書館) -> 捷運古亭站(5號出口)",
           "捷運南京三民站(1號出口) -> 健安新城",
           "捷運劍南路站(2號出口) -> 文湖國小",
           "建國和平路口西北側 -> 捷運大安森林公園站(5號出口)",
           "捷運芝山站(2號出口)_1 -> 蘭雅公園",
           "臺北孔廟 -> 捷運圓山站(2號出口)",
           "蘭雅公園 -> 捷運芝山站(2號出口)_1",
           "大業大同街口 -> 捷運北投站(1號出口)",
           "牯嶺公園 -> 捷運古亭站(2號出口)",
           "碧山公園 -> 捷運內湖站(1號出口)",
           "捷運後山埤站(2號出口) -> 福德公園",
           "捷運大安森林公園站(5號出口) -> 建國和平路口西北側",
           "蘭興公園 -> 捷運芝山站(2號出口)_1",
           "捷運永春站(2號出口) -> 安強公園",
           "民生活動中心 -> 捷運南京三民站(1號出口)"
          ],
          "tickvals": [
           0,
           1,
           2,
           3,
           4,
           5,
           6,
           7,
           8,
           9,
           10,
           11,
           12,
           13,
           14,
           15,
           16,
           17,
           18,
           19,
           20,
           21,
           22,
           23,
           24,
           25,
           26,
           27,
           28,
           29
          ],
          "title": {
           "text": "Stop Pair"
          }
         }
        },
        "legend": {
         "title": {
          "text": "stop_pair"
         },
         "tracegroupgap": 0
        },
        "mapbox": {
         "center": {
          "lat": 25.05,
          "lon": 121.55
         },
         "domain": {
          "x": [
           0,
           1
          ],
          "y": [
           0,
           1
          ]
         },
         "style": "carto-positron",
         "zoom": 11.25
        },
        "margin": {
         "t": 60
        },
        "template": {
         "data": {
          "bar": [
           {
            "error_x": {
             "color": "#2a3f5f"
            },
            "error_y": {
             "color": "#2a3f5f"
            },
            "marker": {
             "line": {
              "color": "#E5ECF6",
              "width": 0.5
             },
             "pattern": {
              "fillmode": "overlay",
              "size": 10,
              "solidity": 0.2
             }
            },
            "type": "bar"
           }
          ],
          "barpolar": [
           {
            "marker": {
             "line": {
              "color": "#E5ECF6",
              "width": 0.5
             },
             "pattern": {
              "fillmode": "overlay",
              "size": 10,
              "solidity": 0.2
             }
            },
            "type": "barpolar"
           }
          ],
          "carpet": [
           {
            "aaxis": {
             "endlinecolor": "#2a3f5f",
             "gridcolor": "white",
             "linecolor": "white",
             "minorgridcolor": "white",
             "startlinecolor": "#2a3f5f"
            },
            "baxis": {
             "endlinecolor": "#2a3f5f",
             "gridcolor": "white",
             "linecolor": "white",
             "minorgridcolor": "white",
             "startlinecolor": "#2a3f5f"
            },
            "type": "carpet"
           }
          ],
          "choropleth": [
           {
            "colorbar": {
             "outlinewidth": 0,
             "ticks": ""
            },
            "type": "choropleth"
           }
          ],
          "contour": [
           {
            "colorbar": {
             "outlinewidth": 0,
             "ticks": ""
            },
            "colorscale": [
             [
              0,
              "#0d0887"
             ],
             [
              0.1111111111111111,
              "#46039f"
             ],
             [
              0.2222222222222222,
              "#7201a8"
             ],
             [
              0.3333333333333333,
              "#9c179e"
             ],
             [
              0.4444444444444444,
              "#bd3786"
             ],
             [
              0.5555555555555556,
              "#d8576b"
             ],
             [
              0.6666666666666666,
              "#ed7953"
             ],
             [
              0.7777777777777778,
              "#fb9f3a"
             ],
             [
              0.8888888888888888,
              "#fdca26"
             ],
             [
              1,
              "#f0f921"
             ]
            ],
            "type": "contour"
           }
          ],
          "contourcarpet": [
           {
            "colorbar": {
             "outlinewidth": 0,
             "ticks": ""
            },
            "type": "contourcarpet"
           }
          ],
          "heatmap": [
           {
            "colorbar": {
             "outlinewidth": 0,
             "ticks": ""
            },
            "colorscale": [
             [
              0,
              "#0d0887"
             ],
             [
              0.1111111111111111,
              "#46039f"
             ],
             [
              0.2222222222222222,
              "#7201a8"
             ],
             [
              0.3333333333333333,
              "#9c179e"
             ],
             [
              0.4444444444444444,
              "#bd3786"
             ],
             [
              0.5555555555555556,
              "#d8576b"
             ],
             [
              0.6666666666666666,
              "#ed7953"
             ],
             [
              0.7777777777777778,
              "#fb9f3a"
             ],
             [
              0.8888888888888888,
              "#fdca26"
             ],
             [
              1,
              "#f0f921"
             ]
            ],
            "type": "heatmap"
           }
          ],
          "heatmapgl": [
           {
            "colorbar": {
             "outlinewidth": 0,
             "ticks": ""
            },
            "colorscale": [
             [
              0,
              "#0d0887"
             ],
             [
              0.1111111111111111,
              "#46039f"
             ],
             [
              0.2222222222222222,
              "#7201a8"
             ],
             [
              0.3333333333333333,
              "#9c179e"
             ],
             [
              0.4444444444444444,
              "#bd3786"
             ],
             [
              0.5555555555555556,
              "#d8576b"
             ],
             [
              0.6666666666666666,
              "#ed7953"
             ],
             [
              0.7777777777777778,
              "#fb9f3a"
             ],
             [
              0.8888888888888888,
              "#fdca26"
             ],
             [
              1,
              "#f0f921"
             ]
            ],
            "type": "heatmapgl"
           }
          ],
          "histogram": [
           {
            "marker": {
             "pattern": {
              "fillmode": "overlay",
              "size": 10,
              "solidity": 0.2
             }
            },
            "type": "histogram"
           }
          ],
          "histogram2d": [
           {
            "colorbar": {
             "outlinewidth": 0,
             "ticks": ""
            },
            "colorscale": [
             [
              0,
              "#0d0887"
             ],
             [
              0.1111111111111111,
              "#46039f"
             ],
             [
              0.2222222222222222,
              "#7201a8"
             ],
             [
              0.3333333333333333,
              "#9c179e"
             ],
             [
              0.4444444444444444,
              "#bd3786"
             ],
             [
              0.5555555555555556,
              "#d8576b"
             ],
             [
              0.6666666666666666,
              "#ed7953"
             ],
             [
              0.7777777777777778,
              "#fb9f3a"
             ],
             [
              0.8888888888888888,
              "#fdca26"
             ],
             [
              1,
              "#f0f921"
             ]
            ],
            "type": "histogram2d"
           }
          ],
          "histogram2dcontour": [
           {
            "colorbar": {
             "outlinewidth": 0,
             "ticks": ""
            },
            "colorscale": [
             [
              0,
              "#0d0887"
             ],
             [
              0.1111111111111111,
              "#46039f"
             ],
             [
              0.2222222222222222,
              "#7201a8"
             ],
             [
              0.3333333333333333,
              "#9c179e"
             ],
             [
              0.4444444444444444,
              "#bd3786"
             ],
             [
              0.5555555555555556,
              "#d8576b"
             ],
             [
              0.6666666666666666,
              "#ed7953"
             ],
             [
              0.7777777777777778,
              "#fb9f3a"
             ],
             [
              0.8888888888888888,
              "#fdca26"
             ],
             [
              1,
              "#f0f921"
             ]
            ],
            "type": "histogram2dcontour"
           }
          ],
          "mesh3d": [
           {
            "colorbar": {
             "outlinewidth": 0,
             "ticks": ""
            },
            "type": "mesh3d"
           }
          ],
          "parcoords": [
           {
            "line": {
             "colorbar": {
              "outlinewidth": 0,
              "ticks": ""
             }
            },
            "type": "parcoords"
           }
          ],
          "pie": [
           {
            "automargin": true,
            "type": "pie"
           }
          ],
          "scatter": [
           {
            "fillpattern": {
             "fillmode": "overlay",
             "size": 10,
             "solidity": 0.2
            },
            "type": "scatter"
           }
          ],
          "scatter3d": [
           {
            "line": {
             "colorbar": {
              "outlinewidth": 0,
              "ticks": ""
             }
            },
            "marker": {
             "colorbar": {
              "outlinewidth": 0,
              "ticks": ""
             }
            },
            "type": "scatter3d"
           }
          ],
          "scattercarpet": [
           {
            "marker": {
             "colorbar": {
              "outlinewidth": 0,
              "ticks": ""
             }
            },
            "type": "scattercarpet"
           }
          ],
          "scattergeo": [
           {
            "marker": {
             "colorbar": {
              "outlinewidth": 0,
              "ticks": ""
             }
            },
            "type": "scattergeo"
           }
          ],
          "scattergl": [
           {
            "marker": {
             "colorbar": {
              "outlinewidth": 0,
              "ticks": ""
             }
            },
            "type": "scattergl"
           }
          ],
          "scattermapbox": [
           {
            "marker": {
             "colorbar": {
              "outlinewidth": 0,
              "ticks": ""
             }
            },
            "type": "scattermapbox"
           }
          ],
          "scatterpolar": [
           {
            "marker": {
             "colorbar": {
              "outlinewidth": 0,
              "ticks": ""
             }
            },
            "type": "scatterpolar"
           }
          ],
          "scatterpolargl": [
           {
            "marker": {
             "colorbar": {
              "outlinewidth": 0,
              "ticks": ""
             }
            },
            "type": "scatterpolargl"
           }
          ],
          "scatterternary": [
           {
            "marker": {
             "colorbar": {
              "outlinewidth": 0,
              "ticks": ""
             }
            },
            "type": "scatterternary"
           }
          ],
          "surface": [
           {
            "colorbar": {
             "outlinewidth": 0,
             "ticks": ""
            },
            "colorscale": [
             [
              0,
              "#0d0887"
             ],
             [
              0.1111111111111111,
              "#46039f"
             ],
             [
              0.2222222222222222,
              "#7201a8"
             ],
             [
              0.3333333333333333,
              "#9c179e"
             ],
             [
              0.4444444444444444,
              "#bd3786"
             ],
             [
              0.5555555555555556,
              "#d8576b"
             ],
             [
              0.6666666666666666,
              "#ed7953"
             ],
             [
              0.7777777777777778,
              "#fb9f3a"
             ],
             [
              0.8888888888888888,
              "#fdca26"
             ],
             [
              1,
              "#f0f921"
             ]
            ],
            "type": "surface"
           }
          ],
          "table": [
           {
            "cells": {
             "fill": {
              "color": "#EBF0F8"
             },
             "line": {
              "color": "white"
             }
            },
            "header": {
             "fill": {
              "color": "#C8D4E3"
             },
             "line": {
              "color": "white"
             }
            },
            "type": "table"
           }
          ]
         },
         "layout": {
          "annotationdefaults": {
           "arrowcolor": "#2a3f5f",
           "arrowhead": 0,
           "arrowwidth": 1
          },
          "autotypenumbers": "strict",
          "coloraxis": {
           "colorbar": {
            "outlinewidth": 0,
            "ticks": ""
           }
          },
          "colorscale": {
           "diverging": [
            [
             0,
             "#8e0152"
            ],
            [
             0.1,
             "#c51b7d"
            ],
            [
             0.2,
             "#de77ae"
            ],
            [
             0.3,
             "#f1b6da"
            ],
            [
             0.4,
             "#fde0ef"
            ],
            [
             0.5,
             "#f7f7f7"
            ],
            [
             0.6,
             "#e6f5d0"
            ],
            [
             0.7,
             "#b8e186"
            ],
            [
             0.8,
             "#7fbc41"
            ],
            [
             0.9,
             "#4d9221"
            ],
            [
             1,
             "#276419"
            ]
           ],
           "sequential": [
            [
             0,
             "#0d0887"
            ],
            [
             0.1111111111111111,
             "#46039f"
            ],
            [
             0.2222222222222222,
             "#7201a8"
            ],
            [
             0.3333333333333333,
             "#9c179e"
            ],
            [
             0.4444444444444444,
             "#bd3786"
            ],
            [
             0.5555555555555556,
             "#d8576b"
            ],
            [
             0.6666666666666666,
             "#ed7953"
            ],
            [
             0.7777777777777778,
             "#fb9f3a"
            ],
            [
             0.8888888888888888,
             "#fdca26"
            ],
            [
             1,
             "#f0f921"
            ]
           ],
           "sequentialminus": [
            [
             0,
             "#0d0887"
            ],
            [
             0.1111111111111111,
             "#46039f"
            ],
            [
             0.2222222222222222,
             "#7201a8"
            ],
            [
             0.3333333333333333,
             "#9c179e"
            ],
            [
             0.4444444444444444,
             "#bd3786"
            ],
            [
             0.5555555555555556,
             "#d8576b"
            ],
            [
             0.6666666666666666,
             "#ed7953"
            ],
            [
             0.7777777777777778,
             "#fb9f3a"
            ],
            [
             0.8888888888888888,
             "#fdca26"
            ],
            [
             1,
             "#f0f921"
            ]
           ]
          },
          "colorway": [
           "#636efa",
           "#EF553B",
           "#00cc96",
           "#ab63fa",
           "#FFA15A",
           "#19d3f3",
           "#FF6692",
           "#B6E880",
           "#FF97FF",
           "#FECB52"
          ],
          "font": {
           "color": "#2a3f5f"
          },
          "geo": {
           "bgcolor": "white",
           "lakecolor": "white",
           "landcolor": "#E5ECF6",
           "showlakes": true,
           "showland": true,
           "subunitcolor": "white"
          },
          "hoverlabel": {
           "align": "left"
          },
          "hovermode": "closest",
          "mapbox": {
           "style": "light"
          },
          "paper_bgcolor": "white",
          "plot_bgcolor": "#E5ECF6",
          "polar": {
           "angularaxis": {
            "gridcolor": "white",
            "linecolor": "white",
            "ticks": ""
           },
           "bgcolor": "#E5ECF6",
           "radialaxis": {
            "gridcolor": "white",
            "linecolor": "white",
            "ticks": ""
           }
          },
          "scene": {
           "xaxis": {
            "backgroundcolor": "#E5ECF6",
            "gridcolor": "white",
            "gridwidth": 2,
            "linecolor": "white",
            "showbackground": true,
            "ticks": "",
            "zerolinecolor": "white"
           },
           "yaxis": {
            "backgroundcolor": "#E5ECF6",
            "gridcolor": "white",
            "gridwidth": 2,
            "linecolor": "white",
            "showbackground": true,
            "ticks": "",
            "zerolinecolor": "white"
           },
           "zaxis": {
            "backgroundcolor": "#E5ECF6",
            "gridcolor": "white",
            "gridwidth": 2,
            "linecolor": "white",
            "showbackground": true,
            "ticks": "",
            "zerolinecolor": "white"
           }
          },
          "shapedefaults": {
           "line": {
            "color": "#2a3f5f"
           }
          },
          "ternary": {
           "aaxis": {
            "gridcolor": "white",
            "linecolor": "white",
            "ticks": ""
           },
           "baxis": {
            "gridcolor": "white",
            "linecolor": "white",
            "ticks": ""
           },
           "bgcolor": "#E5ECF6",
           "caxis": {
            "gridcolor": "white",
            "linecolor": "white",
            "ticks": ""
           }
          },
          "title": {
           "x": 0.05
          },
          "xaxis": {
           "automargin": true,
           "gridcolor": "white",
           "linecolor": "white",
           "ticks": "",
           "title": {
            "standoff": 15
           },
           "zerolinecolor": "white",
           "zerolinewidth": 2
          },
          "yaxis": {
           "automargin": true,
           "gridcolor": "white",
           "linecolor": "white",
           "ticks": "",
           "title": {
            "standoff": 15
           },
           "zerolinecolor": "white",
           "zerolinewidth": 2
          }
         }
        }
       }
      }
     },
     "metadata": {},
     "output_type": "display_data"
    }
   ],
   "source": [
    "top_10_geo = df_weekday.nlargest(30, \"txn_times_per_day\")\n",
    "top_10_geo[\"stop_pair\"] = top_10_geo[\"on_stop\"] + \" -> \" + top_10_geo[\"off_stop\"]\n",
    "\n",
    "\n",
    "top_10_geo[\"coordinates\"] = top_10_geo[\"coordinates\"].apply(ast.literal_eval)\n",
    "top_10_geo[\"lon\"] = top_10_geo[\"coordinates\"].apply(lambda x: [coord[0] for coord in x])\n",
    "top_10_geo[\"lat\"] = top_10_geo[\"coordinates\"].apply(lambda x: [coord[1] for coord in x])\n",
    "\n",
    "# Flatten the GeoDataFrame for Plotly\n",
    "lines_df = pd.DataFrame(\n",
    "    {\n",
    "        \"on_stop\": top_10_geo[\"on_stop\"],\n",
    "        \"off_stop\": top_10_geo[\"off_stop\"],\n",
    "        \"txn_times_per_day\": top_10_geo[\"txn_times_per_day\"],\n",
    "        \"width\": top_10_geo[\"width\"],\n",
    "        \"stop_pair\": top_10_geo[\"stop_pair\"],  # Use stop_pair for coloring\n",
    "        \"lon\": top_10_geo[\"lon\"],\n",
    "        \"lat\": top_10_geo[\"lat\"],\n",
    "    }\n",
    ")\n",
    "\n",
    "# Visualize with Plotly Express\n",
    "fig = px.line_mapbox(\n",
    "    lines_df.explode([\"lon\", \"lat\"]),\n",
    "    lat=\"lat\",\n",
    "    lon=\"lon\",\n",
    "    color=\"stop_pair\",\n",
    "    line_group=\"stop_pair\",\n",
    "    hover_data={\n",
    "        \"on_stop\": True,\n",
    "        \"off_stop\": True,\n",
    "        \"txn_times_per_day\": True,\n",
    "        \"width\": False,\n",
    "    },\n",
    ")\n",
    "\n",
    "# Update map style\n",
    "fig.update_layout(\n",
    "    mapbox_style=\"carto-positron\",\n",
    "    mapbox_zoom=11.25,\n",
    "    mapbox_center={\"lat\": 25.05, \"lon\": 121.55},\n",
    "    coloraxis_colorbar=dict(\n",
    "        title=\"Stop Pair\",\n",
    "        tickvals=list(range(len(lines_df[\"stop_pair\"].unique()))),\n",
    "        ticktext=lines_df[\"stop_pair\"].unique(),\n",
    "    ),\n",
    ")\n",
    "\n",
    "fig.show()\n"
   ]
  },
  {
   "cell_type": "code",
   "execution_count": null,
   "metadata": {},
   "outputs": [],
   "source": []
  }
 ],
 "metadata": {
  "kernelspec": {
   "display_name": ".venv",
   "language": "python",
   "name": "python3"
  },
  "language_info": {
   "codemirror_mode": {
    "name": "ipython",
    "version": 3
   },
   "file_extension": ".py",
   "mimetype": "text/x-python",
   "name": "python",
   "nbconvert_exporter": "python",
   "pygments_lexer": "ipython3",
   "version": "3.12.4"
  }
 },
 "nbformat": 4,
 "nbformat_minor": 2
}
